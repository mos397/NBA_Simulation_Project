{
 "cells": [
  {
   "cell_type": "code",
   "execution_count": 2,
   "metadata": {},
   "outputs": [],
   "source": [
    "import pandas as pd\n",
    "import numpy as np\n",
    "import random\n",
    "import re\n",
    "from datetime import datetime\n",
    "%matplotlib inline"
   ]
  },
  {
   "cell_type": "code",
   "execution_count": 2,
   "metadata": {},
   "outputs": [],
   "source": [
    "#change csv\n",
    "sim_results = pd.read_csv(\"simulation_results.csv\")\n",
    "gameresults = pd.read_csv(\"TeamGamesLogsDF18.csv.csv\")"
   ]
  },
  {
   "cell_type": "code",
   "execution_count": 3,
   "metadata": {},
   "outputs": [],
   "source": [
    "def wincounter(x):\n",
    "    '''\n",
    "    counts each W in a series, if W gives a win. This donates that game as a win for the team.\n",
    "    '''\n",
    "    if x == 'W':\n",
    "        return 1\n",
    "    else:\n",
    "        return 0\n",
    "    \n",
    "gameresults['Wins']=gameresults['WL'].map(wincounter)"
   ]
  },
  {
   "cell_type": "code",
   "execution_count": 4,
   "metadata": {},
   "outputs": [],
   "source": [
    "#dataframe of the teams real wins\n",
    "real_wins = gameresults.groupby('TEAM_ABBREVIATION')[['Wins']].sum()"
   ]
  },
  {
   "cell_type": "code",
   "execution_count": 5,
   "metadata": {},
   "outputs": [],
   "source": [
    "#average number of wins per season from our sim\n",
    "sim_results['avg_number_wins'] = sim_results.iloc[:,2:101].mean(axis=1)"
   ]
  },
  {
   "cell_type": "code",
   "execution_count": 6,
   "metadata": {},
   "outputs": [
    {
     "data": {
      "text/html": [
       "<div>\n",
       "<style scoped>\n",
       "    .dataframe tbody tr th:only-of-type {\n",
       "        vertical-align: middle;\n",
       "    }\n",
       "\n",
       "    .dataframe tbody tr th {\n",
       "        vertical-align: top;\n",
       "    }\n",
       "\n",
       "    .dataframe thead th {\n",
       "        text-align: right;\n",
       "    }\n",
       "</style>\n",
       "<table border=\"1\" class=\"dataframe\">\n",
       "  <thead>\n",
       "    <tr style=\"text-align: right;\">\n",
       "      <th></th>\n",
       "      <th>level_0</th>\n",
       "      <th>avg_number_wins</th>\n",
       "    </tr>\n",
       "  </thead>\n",
       "  <tbody>\n",
       "    <tr>\n",
       "      <th>6</th>\n",
       "      <td>MIL</td>\n",
       "      <td>63.737374</td>\n",
       "    </tr>\n",
       "    <tr>\n",
       "      <th>8</th>\n",
       "      <td>PHI</td>\n",
       "      <td>56.262626</td>\n",
       "    </tr>\n",
       "    <tr>\n",
       "      <th>2</th>\n",
       "      <td>OKC</td>\n",
       "      <td>54.969697</td>\n",
       "    </tr>\n",
       "    <tr>\n",
       "      <th>23</th>\n",
       "      <td>BOS</td>\n",
       "      <td>54.303030</td>\n",
       "    </tr>\n",
       "    <tr>\n",
       "      <th>26</th>\n",
       "      <td>POR</td>\n",
       "      <td>53.545455</td>\n",
       "    </tr>\n",
       "    <tr>\n",
       "      <th>5</th>\n",
       "      <td>TOR</td>\n",
       "      <td>51.040404</td>\n",
       "    </tr>\n",
       "    <tr>\n",
       "      <th>17</th>\n",
       "      <td>SAC</td>\n",
       "      <td>50.808081</td>\n",
       "    </tr>\n",
       "    <tr>\n",
       "      <th>22</th>\n",
       "      <td>GSW</td>\n",
       "      <td>50.080808</td>\n",
       "    </tr>\n",
       "    <tr>\n",
       "      <th>0</th>\n",
       "      <td>CHA</td>\n",
       "      <td>49.575758</td>\n",
       "    </tr>\n",
       "    <tr>\n",
       "      <th>24</th>\n",
       "      <td>UTA</td>\n",
       "      <td>48.090909</td>\n",
       "    </tr>\n",
       "    <tr>\n",
       "      <th>10</th>\n",
       "      <td>NOP</td>\n",
       "      <td>47.333333</td>\n",
       "    </tr>\n",
       "    <tr>\n",
       "      <th>19</th>\n",
       "      <td>IND</td>\n",
       "      <td>45.707071</td>\n",
       "    </tr>\n",
       "    <tr>\n",
       "      <th>20</th>\n",
       "      <td>DEN</td>\n",
       "      <td>45.323232</td>\n",
       "    </tr>\n",
       "    <tr>\n",
       "      <th>1</th>\n",
       "      <td>HOU</td>\n",
       "      <td>44.909091</td>\n",
       "    </tr>\n",
       "    <tr>\n",
       "      <th>12</th>\n",
       "      <td>MIN</td>\n",
       "      <td>41.747475</td>\n",
       "    </tr>\n",
       "    <tr>\n",
       "      <th>28</th>\n",
       "      <td>SAS</td>\n",
       "      <td>40.474747</td>\n",
       "    </tr>\n",
       "    <tr>\n",
       "      <th>29</th>\n",
       "      <td>ATL</td>\n",
       "      <td>40.010101</td>\n",
       "    </tr>\n",
       "    <tr>\n",
       "      <th>27</th>\n",
       "      <td>LAL</td>\n",
       "      <td>38.585859</td>\n",
       "    </tr>\n",
       "    <tr>\n",
       "      <th>7</th>\n",
       "      <td>LAC</td>\n",
       "      <td>36.414141</td>\n",
       "    </tr>\n",
       "    <tr>\n",
       "      <th>14</th>\n",
       "      <td>BKN</td>\n",
       "      <td>35.737374</td>\n",
       "    </tr>\n",
       "    <tr>\n",
       "      <th>16</th>\n",
       "      <td>MIA</td>\n",
       "      <td>35.666667</td>\n",
       "    </tr>\n",
       "    <tr>\n",
       "      <th>21</th>\n",
       "      <td>ORL</td>\n",
       "      <td>35.595960</td>\n",
       "    </tr>\n",
       "    <tr>\n",
       "      <th>4</th>\n",
       "      <td>WAS</td>\n",
       "      <td>34.505051</td>\n",
       "    </tr>\n",
       "    <tr>\n",
       "      <th>15</th>\n",
       "      <td>PHX</td>\n",
       "      <td>33.989899</td>\n",
       "    </tr>\n",
       "    <tr>\n",
       "      <th>9</th>\n",
       "      <td>DET</td>\n",
       "      <td>33.323232</td>\n",
       "    </tr>\n",
       "    <tr>\n",
       "      <th>11</th>\n",
       "      <td>NYK</td>\n",
       "      <td>29.737374</td>\n",
       "    </tr>\n",
       "    <tr>\n",
       "      <th>13</th>\n",
       "      <td>MEM</td>\n",
       "      <td>23.626263</td>\n",
       "    </tr>\n",
       "    <tr>\n",
       "      <th>25</th>\n",
       "      <td>DAL</td>\n",
       "      <td>20.383838</td>\n",
       "    </tr>\n",
       "    <tr>\n",
       "      <th>18</th>\n",
       "      <td>CHI</td>\n",
       "      <td>18.636364</td>\n",
       "    </tr>\n",
       "    <tr>\n",
       "      <th>3</th>\n",
       "      <td>CLE</td>\n",
       "      <td>15.878788</td>\n",
       "    </tr>\n",
       "  </tbody>\n",
       "</table>\n",
       "</div>"
      ],
      "text/plain": [
       "   level_0  avg_number_wins\n",
       "6      MIL        63.737374\n",
       "8      PHI        56.262626\n",
       "2      OKC        54.969697\n",
       "23     BOS        54.303030\n",
       "26     POR        53.545455\n",
       "5      TOR        51.040404\n",
       "17     SAC        50.808081\n",
       "22     GSW        50.080808\n",
       "0      CHA        49.575758\n",
       "24     UTA        48.090909\n",
       "10     NOP        47.333333\n",
       "19     IND        45.707071\n",
       "20     DEN        45.323232\n",
       "1      HOU        44.909091\n",
       "12     MIN        41.747475\n",
       "28     SAS        40.474747\n",
       "29     ATL        40.010101\n",
       "27     LAL        38.585859\n",
       "7      LAC        36.414141\n",
       "14     BKN        35.737374\n",
       "16     MIA        35.666667\n",
       "21     ORL        35.595960\n",
       "4      WAS        34.505051\n",
       "15     PHX        33.989899\n",
       "9      DET        33.323232\n",
       "11     NYK        29.737374\n",
       "13     MEM        23.626263\n",
       "25     DAL        20.383838\n",
       "18     CHI        18.636364\n",
       "3      CLE        15.878788"
      ]
     },
     "execution_count": 6,
     "metadata": {},
     "output_type": "execute_result"
    }
   ],
   "source": [
    "sim_results[['level_0','avg_number_wins']].sort_values(by='avg_number_wins', ascending = False)"
   ]
  },
  {
   "cell_type": "code",
   "execution_count": 7,
   "metadata": {},
   "outputs": [],
   "source": [
    "sim_results.drop(columns=['Unnamed: 0'], inplace=True)"
   ]
  },
  {
   "cell_type": "code",
   "execution_count": 8,
   "metadata": {},
   "outputs": [],
   "source": [
    "sim_results['max'] = sim_results.iloc[:,1:100].max(axis=1)\n",
    "sim_results['min'] = sim_results.iloc[:,1:100].min(axis=1)"
   ]
  },
  {
   "cell_type": "code",
   "execution_count": 9,
   "metadata": {},
   "outputs": [],
   "source": [
    "sim_results['Win_Gap'] = sim_results['max']-sim_results['min']"
   ]
  },
  {
   "cell_type": "code",
   "execution_count": 10,
   "metadata": {},
   "outputs": [],
   "source": [
    "sim_results.set_index('level_0',inplace=True)"
   ]
  },
  {
   "cell_type": "code",
   "execution_count": 11,
   "metadata": {},
   "outputs": [
    {
     "data": {
      "text/plain": [
       "<matplotlib.axes._subplots.AxesSubplot at 0x13941ebe3c8>"
      ]
     },
     "execution_count": 11,
     "metadata": {},
     "output_type": "execute_result"
    },
    {
     "data": {
      "image/png": "[encoded data removed]",
      "text/plain": [
       "<Figure size 432x288 with 1 Axes>"
      ]
     },
     "metadata": {
      "needs_background": "light"
     },
     "output_type": "display_data"
    }
   ],
   "source": [
    "#average number of wins from our sim in graph form\n",
    "sim_results['avg_number_wins'].sort_values(ascending=False).plot(kind='bar')"
   ]
  },
  {
   "cell_type": "code",
   "execution_count": 12,
   "metadata": {},
   "outputs": [],
   "source": [
    "sim_avg_wins = sim_results.reset_index()[['level_0','avg_number_wins']]"
   ]
  },
  {
   "cell_type": "code",
   "execution_count": 13,
   "metadata": {},
   "outputs": [],
   "source": [
    "sim_vs_actual = sim_avg_wins.merge(real_wins,left_on='level_0',right_on='TEAM_ABBREVIATION')"
   ]
  },
  {
   "cell_type": "code",
   "execution_count": 14,
   "metadata": {},
   "outputs": [],
   "source": [
    "sim_vs_actual.set_index('level_0',inplace=True)"
   ]
  },
  {
   "cell_type": "code",
   "execution_count": 15,
   "metadata": {},
   "outputs": [
    {
     "data": {
      "text/plain": [
       "<matplotlib.axes._subplots.AxesSubplot at 0x1394220eeb8>"
      ]
     },
     "execution_count": 15,
     "metadata": {},
     "output_type": "execute_result"
    },
    {
     "data": {
      "image/png": "[encoded data removed]",
      "text/plain": [
       "<Figure size 576x576 with 1 Axes>"
      ]
     },
     "metadata": {
      "needs_background": "light"
     },
     "output_type": "display_data"
    }
   ],
   "source": [
    "#average sim wins for team vs their actual\n",
    "sim_vs_actual.plot(kind='bar', figsize=(8, 8))"
   ]
  },
  {
   "cell_type": "code",
   "execution_count": 16,
   "metadata": {},
   "outputs": [],
   "source": [
    "sim_vs_actual['diff']=sim_vs_actual['avg_number_wins']-sim_vs_actual['Wins']"
   ]
  },
  {
   "cell_type": "code",
   "execution_count": 17,
   "metadata": {
    "scrolled": true
   },
   "outputs": [
    {
     "data": {
      "text/html": [
       "<div>\n",
       "<style scoped>\n",
       "    .dataframe tbody tr th:only-of-type {\n",
       "        vertical-align: middle;\n",
       "    }\n",
       "\n",
       "    .dataframe tbody tr th {\n",
       "        vertical-align: top;\n",
       "    }\n",
       "\n",
       "    .dataframe thead th {\n",
       "        text-align: right;\n",
       "    }\n",
       "</style>\n",
       "<table border=\"1\" class=\"dataframe\">\n",
       "  <thead>\n",
       "    <tr style=\"text-align: right;\">\n",
       "      <th></th>\n",
       "      <th>avg_number_wins</th>\n",
       "      <th>Wins</th>\n",
       "      <th>diff</th>\n",
       "    </tr>\n",
       "    <tr>\n",
       "      <th>level_0</th>\n",
       "      <th></th>\n",
       "      <th></th>\n",
       "      <th></th>\n",
       "    </tr>\n",
       "  </thead>\n",
       "  <tbody>\n",
       "    <tr>\n",
       "      <th>DAL</th>\n",
       "      <td>20.383838</td>\n",
       "      <td>33</td>\n",
       "      <td>-12.616162</td>\n",
       "    </tr>\n",
       "    <tr>\n",
       "      <th>LAC</th>\n",
       "      <td>36.414141</td>\n",
       "      <td>48</td>\n",
       "      <td>-11.585859</td>\n",
       "    </tr>\n",
       "    <tr>\n",
       "      <th>MEM</th>\n",
       "      <td>23.626263</td>\n",
       "      <td>33</td>\n",
       "      <td>-9.373737</td>\n",
       "    </tr>\n",
       "    <tr>\n",
       "      <th>DEN</th>\n",
       "      <td>45.323232</td>\n",
       "      <td>54</td>\n",
       "      <td>-8.676768</td>\n",
       "    </tr>\n",
       "    <tr>\n",
       "      <th>HOU</th>\n",
       "      <td>44.909091</td>\n",
       "      <td>53</td>\n",
       "      <td>-8.090909</td>\n",
       "    </tr>\n",
       "    <tr>\n",
       "      <th>DET</th>\n",
       "      <td>33.323232</td>\n",
       "      <td>41</td>\n",
       "      <td>-7.676768</td>\n",
       "    </tr>\n",
       "    <tr>\n",
       "      <th>SAS</th>\n",
       "      <td>40.474747</td>\n",
       "      <td>48</td>\n",
       "      <td>-7.525253</td>\n",
       "    </tr>\n",
       "    <tr>\n",
       "      <th>TOR</th>\n",
       "      <td>51.040404</td>\n",
       "      <td>58</td>\n",
       "      <td>-6.959596</td>\n",
       "    </tr>\n",
       "    <tr>\n",
       "      <th>GSW</th>\n",
       "      <td>50.080808</td>\n",
       "      <td>57</td>\n",
       "      <td>-6.919192</td>\n",
       "    </tr>\n",
       "    <tr>\n",
       "      <th>ORL</th>\n",
       "      <td>35.595960</td>\n",
       "      <td>42</td>\n",
       "      <td>-6.404040</td>\n",
       "    </tr>\n",
       "    <tr>\n",
       "      <th>BKN</th>\n",
       "      <td>35.737374</td>\n",
       "      <td>42</td>\n",
       "      <td>-6.262626</td>\n",
       "    </tr>\n",
       "    <tr>\n",
       "      <th>CHI</th>\n",
       "      <td>18.636364</td>\n",
       "      <td>22</td>\n",
       "      <td>-3.363636</td>\n",
       "    </tr>\n",
       "    <tr>\n",
       "      <th>MIA</th>\n",
       "      <td>35.666667</td>\n",
       "      <td>39</td>\n",
       "      <td>-3.333333</td>\n",
       "    </tr>\n",
       "    <tr>\n",
       "      <th>CLE</th>\n",
       "      <td>15.878788</td>\n",
       "      <td>19</td>\n",
       "      <td>-3.121212</td>\n",
       "    </tr>\n",
       "    <tr>\n",
       "      <th>IND</th>\n",
       "      <td>45.707071</td>\n",
       "      <td>48</td>\n",
       "      <td>-2.292929</td>\n",
       "    </tr>\n",
       "    <tr>\n",
       "      <th>UTA</th>\n",
       "      <td>48.090909</td>\n",
       "      <td>50</td>\n",
       "      <td>-1.909091</td>\n",
       "    </tr>\n",
       "    <tr>\n",
       "      <th>POR</th>\n",
       "      <td>53.545455</td>\n",
       "      <td>53</td>\n",
       "      <td>0.545455</td>\n",
       "    </tr>\n",
       "    <tr>\n",
       "      <th>LAL</th>\n",
       "      <td>38.585859</td>\n",
       "      <td>37</td>\n",
       "      <td>1.585859</td>\n",
       "    </tr>\n",
       "    <tr>\n",
       "      <th>WAS</th>\n",
       "      <td>34.505051</td>\n",
       "      <td>32</td>\n",
       "      <td>2.505051</td>\n",
       "    </tr>\n",
       "    <tr>\n",
       "      <th>MIL</th>\n",
       "      <td>63.737374</td>\n",
       "      <td>60</td>\n",
       "      <td>3.737374</td>\n",
       "    </tr>\n",
       "    <tr>\n",
       "      <th>PHI</th>\n",
       "      <td>56.262626</td>\n",
       "      <td>51</td>\n",
       "      <td>5.262626</td>\n",
       "    </tr>\n",
       "    <tr>\n",
       "      <th>BOS</th>\n",
       "      <td>54.303030</td>\n",
       "      <td>49</td>\n",
       "      <td>5.303030</td>\n",
       "    </tr>\n",
       "    <tr>\n",
       "      <th>MIN</th>\n",
       "      <td>41.747475</td>\n",
       "      <td>36</td>\n",
       "      <td>5.747475</td>\n",
       "    </tr>\n",
       "    <tr>\n",
       "      <th>OKC</th>\n",
       "      <td>54.969697</td>\n",
       "      <td>49</td>\n",
       "      <td>5.969697</td>\n",
       "    </tr>\n",
       "    <tr>\n",
       "      <th>CHA</th>\n",
       "      <td>49.575758</td>\n",
       "      <td>39</td>\n",
       "      <td>10.575758</td>\n",
       "    </tr>\n",
       "    <tr>\n",
       "      <th>ATL</th>\n",
       "      <td>40.010101</td>\n",
       "      <td>29</td>\n",
       "      <td>11.010101</td>\n",
       "    </tr>\n",
       "    <tr>\n",
       "      <th>SAC</th>\n",
       "      <td>50.808081</td>\n",
       "      <td>39</td>\n",
       "      <td>11.808081</td>\n",
       "    </tr>\n",
       "    <tr>\n",
       "      <th>NYK</th>\n",
       "      <td>29.737374</td>\n",
       "      <td>17</td>\n",
       "      <td>12.737374</td>\n",
       "    </tr>\n",
       "    <tr>\n",
       "      <th>NOP</th>\n",
       "      <td>47.333333</td>\n",
       "      <td>33</td>\n",
       "      <td>14.333333</td>\n",
       "    </tr>\n",
       "    <tr>\n",
       "      <th>PHX</th>\n",
       "      <td>33.989899</td>\n",
       "      <td>19</td>\n",
       "      <td>14.989899</td>\n",
       "    </tr>\n",
       "  </tbody>\n",
       "</table>\n",
       "</div>"
      ],
      "text/plain": [
       "         avg_number_wins  Wins       diff\n",
       "level_0                                  \n",
       "DAL            20.383838    33 -12.616162\n",
       "LAC            36.414141    48 -11.585859\n",
       "MEM            23.626263    33  -9.373737\n",
       "DEN            45.323232    54  -8.676768\n",
       "HOU            44.909091    53  -8.090909\n",
       "DET            33.323232    41  -7.676768\n",
       "SAS            40.474747    48  -7.525253\n",
       "TOR            51.040404    58  -6.959596\n",
       "GSW            50.080808    57  -6.919192\n",
       "ORL            35.595960    42  -6.404040\n",
       "BKN            35.737374    42  -6.262626\n",
       "CHI            18.636364    22  -3.363636\n",
       "MIA            35.666667    39  -3.333333\n",
       "CLE            15.878788    19  -3.121212\n",
       "IND            45.707071    48  -2.292929\n",
       "UTA            48.090909    50  -1.909091\n",
       "POR            53.545455    53   0.545455\n",
       "LAL            38.585859    37   1.585859\n",
       "WAS            34.505051    32   2.505051\n",
       "MIL            63.737374    60   3.737374\n",
       "PHI            56.262626    51   5.262626\n",
       "BOS            54.303030    49   5.303030\n",
       "MIN            41.747475    36   5.747475\n",
       "OKC            54.969697    49   5.969697\n",
       "CHA            49.575758    39  10.575758\n",
       "ATL            40.010101    29  11.010101\n",
       "SAC            50.808081    39  11.808081\n",
       "NYK            29.737374    17  12.737374\n",
       "NOP            47.333333    33  14.333333\n",
       "PHX            33.989899    19  14.989899"
      ]
     },
     "execution_count": 17,
     "metadata": {},
     "output_type": "execute_result"
    }
   ],
   "source": [
    "sim_vs_actual.sort_values(by='diff')"
   ]
  },
  {
   "cell_type": "code",
   "execution_count": 18,
   "metadata": {},
   "outputs": [
    {
     "data": {
      "text/plain": [
       "<matplotlib.axes._subplots.AxesSubplot at 0x139423c3b00>"
      ]
     },
     "execution_count": 18,
     "metadata": {},
     "output_type": "execute_result"
    },
    {
     "data": {
      "image/png": "[encoded data removed]",
      "text/plain": [
       "<Figure size 432x288 with 1 Axes>"
      ]
     },
     "metadata": {
      "needs_background": "light"
     },
     "output_type": "display_data"
    }
   ],
   "source": [
    "sim_vs_actual['diff'].plot(kind='bar')"
   ]
  },
  {
   "cell_type": "code",
   "execution_count": 19,
   "metadata": {},
   "outputs": [],
   "source": [
    "sim_vs_actual['abs_diff']=sim_vs_actual['diff'].abs()"
   ]
  },
  {
   "cell_type": "code",
   "execution_count": 20,
   "metadata": {},
   "outputs": [
    {
     "data": {
      "text/plain": [
       "avg_number_wins    4.100000e+01\n",
       "Wins               4.100000e+01\n",
       "diff               4.736952e-16\n",
       "abs_diff           7.074074e+00\n",
       "dtype: float64"
      ]
     },
     "execution_count": 20,
     "metadata": {},
     "output_type": "execute_result"
    }
   ],
   "source": [
    "sim_vs_actual.mean()"
   ]
  },
  {
   "cell_type": "markdown",
   "metadata": {},
   "source": [
    "# Playoffs"
   ]
  },
  {
   "cell_type": "code",
   "execution_count": 21,
   "metadata": {},
   "outputs": [],
   "source": [
    "east = ['MIL','TOR','PHI','BOS','IND','BKN','ORL','DET','CHA','MIA','WAS','ATL','CHI','CLE','NYK']\n",
    "west = ['GSW','DEN','POR','HOU','UTA','OKC','SAS','LAC','SAC','LAL','MIN','MEM','NOP','DAL','PHO']"
   ]
  },
  {
   "cell_type": "code",
   "execution_count": 22,
   "metadata": {},
   "outputs": [],
   "source": [
    "def conference(x):\n",
    "    if x in east:\n",
    "        return 'E'\n",
    "    else:\n",
    "        return 'W'\n",
    "\n",
    "sim_vs_actual['conference']=sim_vs_actual.index.map(conference)"
   ]
  },
  {
   "cell_type": "code",
   "execution_count": 23,
   "metadata": {},
   "outputs": [],
   "source": [
    "eastern_teams = sim_vs_actual[sim_vs_actual['conference']=='E']\n",
    "western_teams = sim_vs_actual[sim_vs_actual['conference']=='W']"
   ]
  },
  {
   "cell_type": "code",
   "execution_count": 24,
   "metadata": {},
   "outputs": [],
   "source": [
    "east_act_playoff = eastern_teams.sort_values(by='Wins',ascending=False)[:8]\n",
    "east_sim_playoff = eastern_teams.sort_values(by='avg_number_wins',ascending=False)[:8]"
   ]
  },
  {
   "cell_type": "code",
   "execution_count": 25,
   "metadata": {},
   "outputs": [],
   "source": [
    "west_act_playoff = western_teams.sort_values(by='Wins',ascending=False)[:8]\n",
    "west_sim_playoff = western_teams.sort_values(by='avg_number_wins',ascending=False)[:8]"
   ]
  },
  {
   "cell_type": "code",
   "execution_count": 26,
   "metadata": {},
   "outputs": [
    {
     "name": "stdout",
     "output_type": "stream",
     "text": [
      "actual Index(['MIL', 'TOR', 'PHI', 'BOS', 'IND', 'BKN', 'ORL', 'DET'], dtype='object', name='level_0')\n",
      "sim Index(['MIL', 'PHI', 'BOS', 'TOR', 'CHA', 'IND', 'ATL', 'BKN'], dtype='object', name='level_0')\n",
      "actual Index(['GSW', 'DEN', 'HOU', 'POR', 'UTA', 'OKC', 'LAC', 'SAS'], dtype='object', name='level_0')\n",
      "sim Index(['OKC', 'POR', 'SAC', 'GSW', 'UTA', 'NOP', 'DEN', 'HOU'], dtype='object', name='level_0')\n"
     ]
    }
   ],
   "source": [
    "print('actual',east_act_playoff.index)\n",
    "print('sim',east_sim_playoff.index)\n",
    "print('actual',west_act_playoff.index)\n",
    "print('sim',west_sim_playoff.index)"
   ]
  },
  {
   "cell_type": "markdown",
   "metadata": {},
   "source": [
    "# Probability"
   ]
  },
  {
   "cell_type": "code",
   "execution_count": 27,
   "metadata": {},
   "outputs": [],
   "source": [
    "sim_results['std']=sim_results.iloc[:, 0:100].std(axis=1)"
   ]
  },
  {
   "cell_type": "code",
   "execution_count": 28,
   "metadata": {},
   "outputs": [],
   "source": [
    "sim_results_just_wins=sim_results.iloc[:, 0:100]"
   ]
  },
  {
   "cell_type": "code",
   "execution_count": 29,
   "metadata": {},
   "outputs": [
    {
     "data": {
      "text/plain": [
       "array([[<matplotlib.axes._subplots.AxesSubplot object at 0x000001394246CF60>]],\n",
       "      dtype=object)"
      ]
     },
     "execution_count": 29,
     "metadata": {},
     "output_type": "execute_result"
    },
    {
     "data": {
      "image/png": "[encoded data removed]",
      "text/plain": [
       "<Figure size 432x288 with 1 Axes>"
      ]
     },
     "metadata": {
      "needs_background": "light"
     },
     "output_type": "display_data"
    }
   ],
   "source": [
    "sim_results_just_wins[sim_results_just_wins.index == 'CHA'].transpose().hist()"
   ]
  },
  {
   "cell_type": "code",
   "execution_count": 30,
   "metadata": {},
   "outputs": [],
   "source": [
    "import scipy.stats\n",
    "def get_probs(x,y,z):\n",
    "    return scipy.stats.norm(x, y).cdf(z)"
   ]
  },
  {
   "cell_type": "code",
   "execution_count": 31,
   "metadata": {},
   "outputs": [
    {
     "data": {
      "text/plain": [
       "0.6914624612740131"
      ]
     },
     "execution_count": 31,
     "metadata": {},
     "output_type": "execute_result"
    }
   ],
   "source": [
    "get_probs(0,1,0.5)"
   ]
  },
  {
   "cell_type": "code",
   "execution_count": 32,
   "metadata": {},
   "outputs": [],
   "source": [
    "probs_df = sim_results.merge(real_wins,left_on=sim_results.index,right_on='TEAM_ABBREVIATION')"
   ]
  },
  {
   "cell_type": "code",
   "execution_count": 33,
   "metadata": {},
   "outputs": [],
   "source": [
    "probs_df['probability']= probs_df.apply(lambda x: get_probs(x['avg_number_wins'],x['std'],x['Wins']), axis=1)"
   ]
  },
  {
   "cell_type": "code",
   "execution_count": 34,
   "metadata": {},
   "outputs": [],
   "source": [
    "probs_df.set_index('TEAM_ABBREVIATION',inplace=True)"
   ]
  },
  {
   "cell_type": "code",
   "execution_count": 35,
   "metadata": {},
   "outputs": [
    {
     "data": {
      "text/html": [
       "<div>\n",
       "<style scoped>\n",
       "    .dataframe tbody tr th:only-of-type {\n",
       "        vertical-align: middle;\n",
       "    }\n",
       "\n",
       "    .dataframe tbody tr th {\n",
       "        vertical-align: top;\n",
       "    }\n",
       "\n",
       "    .dataframe thead th {\n",
       "        text-align: right;\n",
       "    }\n",
       "</style>\n",
       "<table border=\"1\" class=\"dataframe\">\n",
       "  <thead>\n",
       "    <tr style=\"text-align: right;\">\n",
       "      <th></th>\n",
       "      <th>avg_number_wins</th>\n",
       "      <th>std</th>\n",
       "      <th>Wins</th>\n",
       "      <th>probability</th>\n",
       "    </tr>\n",
       "    <tr>\n",
       "      <th>TEAM_ABBREVIATION</th>\n",
       "      <th></th>\n",
       "      <th></th>\n",
       "      <th></th>\n",
       "      <th></th>\n",
       "    </tr>\n",
       "  </thead>\n",
       "  <tbody>\n",
       "    <tr>\n",
       "      <th>PHX</th>\n",
       "      <td>33.989899</td>\n",
       "      <td>4.230672</td>\n",
       "      <td>19</td>\n",
       "      <td>0.000198</td>\n",
       "    </tr>\n",
       "    <tr>\n",
       "      <th>NOP</th>\n",
       "      <td>47.333333</td>\n",
       "      <td>4.769601</td>\n",
       "      <td>33</td>\n",
       "      <td>0.001327</td>\n",
       "    </tr>\n",
       "    <tr>\n",
       "      <th>NYK</th>\n",
       "      <td>29.737374</td>\n",
       "      <td>4.414439</td>\n",
       "      <td>17</td>\n",
       "      <td>0.001955</td>\n",
       "    </tr>\n",
       "    <tr>\n",
       "      <th>SAC</th>\n",
       "      <td>50.808081</td>\n",
       "      <td>4.131317</td>\n",
       "      <td>39</td>\n",
       "      <td>0.002130</td>\n",
       "    </tr>\n",
       "    <tr>\n",
       "      <th>ATL</th>\n",
       "      <td>40.010101</td>\n",
       "      <td>4.161524</td>\n",
       "      <td>29</td>\n",
       "      <td>0.004076</td>\n",
       "    </tr>\n",
       "  </tbody>\n",
       "</table>\n",
       "</div>"
      ],
      "text/plain": [
       "                   avg_number_wins       std  Wins  probability\n",
       "TEAM_ABBREVIATION                                              \n",
       "PHX                      33.989899  4.230672    19     0.000198\n",
       "NOP                      47.333333  4.769601    33     0.001327\n",
       "NYK                      29.737374  4.414439    17     0.001955\n",
       "SAC                      50.808081  4.131317    39     0.002130\n",
       "ATL                      40.010101  4.161524    29     0.004076"
      ]
     },
     "execution_count": 35,
     "metadata": {},
     "output_type": "execute_result"
    }
   ],
   "source": [
    "#under achievers\n",
    "probs_df[['avg_number_wins','std','Wins','probability']].sort_values(by='probability')[:5]"
   ]
  },
  {
   "cell_type": "code",
   "execution_count": 36,
   "metadata": {},
   "outputs": [
    {
     "data": {
      "text/html": [
       "<div>\n",
       "<style scoped>\n",
       "    .dataframe tbody tr th:only-of-type {\n",
       "        vertical-align: middle;\n",
       "    }\n",
       "\n",
       "    .dataframe tbody tr th {\n",
       "        vertical-align: top;\n",
       "    }\n",
       "\n",
       "    .dataframe thead th {\n",
       "        text-align: right;\n",
       "    }\n",
       "</style>\n",
       "<table border=\"1\" class=\"dataframe\">\n",
       "  <thead>\n",
       "    <tr style=\"text-align: right;\">\n",
       "      <th></th>\n",
       "      <th>avg_number_wins</th>\n",
       "      <th>std</th>\n",
       "      <th>Wins</th>\n",
       "      <th>probability</th>\n",
       "    </tr>\n",
       "    <tr>\n",
       "      <th>TEAM_ABBREVIATION</th>\n",
       "      <th></th>\n",
       "      <th></th>\n",
       "      <th></th>\n",
       "      <th></th>\n",
       "    </tr>\n",
       "  </thead>\n",
       "  <tbody>\n",
       "    <tr>\n",
       "      <th>DAL</th>\n",
       "      <td>20.383838</td>\n",
       "      <td>3.843123</td>\n",
       "      <td>33</td>\n",
       "      <td>0.999486</td>\n",
       "    </tr>\n",
       "    <tr>\n",
       "      <th>LAC</th>\n",
       "      <td>36.414141</td>\n",
       "      <td>4.210269</td>\n",
       "      <td>48</td>\n",
       "      <td>0.997037</td>\n",
       "    </tr>\n",
       "    <tr>\n",
       "      <th>MEM</th>\n",
       "      <td>23.626263</td>\n",
       "      <td>3.658821</td>\n",
       "      <td>33</td>\n",
       "      <td>0.994796</td>\n",
       "    </tr>\n",
       "    <tr>\n",
       "      <th>DEN</th>\n",
       "      <td>45.323232</td>\n",
       "      <td>4.081295</td>\n",
       "      <td>54</td>\n",
       "      <td>0.983248</td>\n",
       "    </tr>\n",
       "    <tr>\n",
       "      <th>DET</th>\n",
       "      <td>33.323232</td>\n",
       "      <td>4.085154</td>\n",
       "      <td>41</td>\n",
       "      <td>0.969891</td>\n",
       "    </tr>\n",
       "  </tbody>\n",
       "</table>\n",
       "</div>"
      ],
      "text/plain": [
       "                   avg_number_wins       std  Wins  probability\n",
       "TEAM_ABBREVIATION                                              \n",
       "DAL                      20.383838  3.843123    33     0.999486\n",
       "LAC                      36.414141  4.210269    48     0.997037\n",
       "MEM                      23.626263  3.658821    33     0.994796\n",
       "DEN                      45.323232  4.081295    54     0.983248\n",
       "DET                      33.323232  4.085154    41     0.969891"
      ]
     },
     "execution_count": 36,
     "metadata": {},
     "output_type": "execute_result"
    }
   ],
   "source": [
    "#over achievers\n",
    "probs_df[['avg_number_wins','std','Wins','probability']].sort_values(by='probability',ascending=False)[:5]"
   ]
  },
  {
   "cell_type": "markdown",
   "metadata": {},
   "source": [
    "# Teams With All NBA Players"
   ]
  },
  {
   "cell_type": "code",
   "execution_count": 37,
   "metadata": {},
   "outputs": [],
   "source": [
    "import matplotlib.pyplot as plt\n",
    "#https://www.nba.com/2018-19-all-nba-teams-official-release\n",
    "#above links to what players won the award that year"
   ]
  },
  {
   "cell_type": "code",
   "execution_count": 39,
   "metadata": {},
   "outputs": [
    {
     "data": {
      "image/png": "[encoded data removed]",
      "text/plain": [
       "<Figure size 1152x648 with 1 Axes>"
      ]
     },
     "metadata": {
      "needs_background": "light"
     },
     "output_type": "display_data"
    }
   ],
   "source": [
    "#red-wings, green-guards, yellow-frontcourt, cyan-w and g\n",
    "bargraph = plt.bar(sim_results['avg_number_wins'].sort_values(ascending=False).index,sim_results['avg_number_wins'].sort_values(ascending=False))\n",
    "bargraph\n",
    "plt.rcParams[\"figure.figsize\"] = [16,9]\n",
    "bargraph[0].set_color('r')\n",
    "bargraph[1].set_color('y')\n",
    "bargraph[2].set_color('c')\n",
    "bargraph[3].set_color('g')\n",
    "bargraph[4].set_color('g')\n",
    "bargraph[5].set_color('r')\n",
    "bargraph[7].set_color('c')\n",
    "bargraph[8].set_color('g')\n",
    "bargraph[9].set_color('y')\n",
    "bargraph[12].set_color('y')\n",
    "bargraph[13].set_color('g')\n",
    "bargraph[17].set_color('r')\n",
    "bargraph[24].set_color('y')\n",
    "plt.show()"
   ]
  },
  {
   "cell_type": "markdown",
   "metadata": {},
   "source": [
    "# Who should have been MVP"
   ]
  },
  {
   "cell_type": "code",
   "execution_count": 9,
   "metadata": {},
   "outputs": [],
   "source": [
    "giannas_df = pd.read_csv(\"giannas_df.csv\")\n",
    "harden_df = pd.read_csv(\"harden_df.csv\")\n",
    "george_df = pd.read_csv(\"george_df.csv\")\n",
    "jokic_df = pd.read_csv(\"jokic_df.csv\")\n",
    "curry_df = pd.read_csv(\"curry_df.csv\")\n",
    "lillard_df = pd.read_csv(\"lillard_df.csv\")\n",
    "embiid_df = pd.read_csv(\"embiid_df.csv\")\n",
    "kawhi_df = pd.read_csv(\"kawhi_df.csv\")\n",
    "gobert_df = pd.read_csv(\"gobert_df.csv\")\n",
    "lebron_df = pd.read_csv(\"lebron_df.csv\")"
   ]
  },
  {
   "cell_type": "code",
   "execution_count": 65,
   "metadata": {},
   "outputs": [
    {
     "name": "stdout",
     "output_type": "stream",
     "text": [
      "Difference: 6    17.7\n",
      "Name: avg_number_wins, dtype: float64\n"
     ]
    }
   ],
   "source": [
    "#find average wins of team without supestar and substract from original teams win average in the original sim\n",
    "giannas_df['avg_number_wins'] = giannas_df.iloc[:,2:31].mean(axis=1)\n",
    "giannas_df[giannas_df['level_0']=='MIL']['avg_number_wins']\n",
    "print('Difference:',int(sim_results[sim_results.index=='MIL']['avg_number_wins'])-giannas_df[giannas_df['level_0']=='MIL']['avg_number_wins'])"
   ]
  },
  {
   "cell_type": "code",
   "execution_count": 66,
   "metadata": {},
   "outputs": [
    {
     "name": "stdout",
     "output_type": "stream",
     "text": [
      "Difference: 1    21.3\n",
      "Name: avg_number_wins, dtype: float64\n"
     ]
    }
   ],
   "source": [
    "harden_df['avg_number_wins'] = harden_df.iloc[:,2:31].mean(axis=1)\n",
    "harden_df[harden_df['level_0']=='HOU']['avg_number_wins']\n",
    "print('Difference:',int(sim_results[sim_results.index=='HOU']['avg_number_wins'])-harden_df[harden_df['level_0']=='HOU']['avg_number_wins'])"
   ]
  },
  {
   "cell_type": "code",
   "execution_count": 67,
   "metadata": {},
   "outputs": [
    {
     "name": "stdout",
     "output_type": "stream",
     "text": [
      "Difference: 2    22.7\n",
      "Name: avg_number_wins, dtype: float64\n"
     ]
    }
   ],
   "source": [
    "george_df['avg_number_wins'] = george_df.iloc[:,2:31].mean(axis=1)\n",
    "george_df[george_df['level_0']=='OKC']['avg_number_wins']\n",
    "print('Difference:',int(sim_results[sim_results.index=='OKC']['avg_number_wins'])-george_df[george_df['level_0']=='OKC']['avg_number_wins'])"
   ]
  },
  {
   "cell_type": "code",
   "execution_count": 68,
   "metadata": {},
   "outputs": [
    {
     "name": "stdout",
     "output_type": "stream",
     "text": [
      "Difference: 20    20.0\n",
      "Name: avg_number_wins, dtype: float64\n"
     ]
    }
   ],
   "source": [
    "jokic_df['avg_number_wins'] = jokic_df.iloc[:,2:31].mean(axis=1)\n",
    "jokic_df[jokic_df['level_0']=='DEN']['avg_number_wins']\n",
    "print('Difference:',int(sim_results[sim_results.index=='DEN']['avg_number_wins'])-jokic_df[jokic_df['level_0']=='DEN']['avg_number_wins'])"
   ]
  },
  {
   "cell_type": "code",
   "execution_count": 69,
   "metadata": {},
   "outputs": [
    {
     "name": "stdout",
     "output_type": "stream",
     "text": [
      "Difference: 22    16.8\n",
      "Name: avg_number_wins, dtype: float64\n"
     ]
    }
   ],
   "source": [
    "curry_df['avg_number_wins'] = curry_df.iloc[:,2:31].mean(axis=1)\n",
    "curry_df[giannas_df['level_0']=='GSW']['avg_number_wins']\n",
    "print('Difference:',int(sim_results[sim_results.index=='GSW']['avg_number_wins'])-curry_df[curry_df['level_0']=='GSW']['avg_number_wins'])"
   ]
  },
  {
   "cell_type": "code",
   "execution_count": 71,
   "metadata": {},
   "outputs": [
    {
     "name": "stdout",
     "output_type": "stream",
     "text": [
      "Difference: 26    19.5\n",
      "Name: avg_number_wins, dtype: float64\n"
     ]
    }
   ],
   "source": [
    "lillard_df['avg_number_wins'] = lillard_df.iloc[:,2:31].mean(axis=1)\n",
    "lillard_df[giannas_df['level_0']=='POR']['avg_number_wins']\n",
    "print('Difference:',int(sim_results[sim_results.index=='POR']['avg_number_wins'])-lillard_df[lillard_df['level_0']=='POR']['avg_number_wins'])"
   ]
  },
  {
   "cell_type": "code",
   "execution_count": 72,
   "metadata": {},
   "outputs": [
    {
     "name": "stdout",
     "output_type": "stream",
     "text": [
      "Difference: 8    13.7\n",
      "Name: avg_number_wins, dtype: float64\n"
     ]
    }
   ],
   "source": [
    "embiid_df['avg_number_wins'] = embiid_df.iloc[:,2:31].mean(axis=1)\n",
    "embiid_df[giannas_df['level_0']=='PHI']['avg_number_wins']\n",
    "print('Difference:',int(sim_results[sim_results.index=='PHI']['avg_number_wins'])-embiid_df[embiid_df['level_0']=='PHI']['avg_number_wins'])"
   ]
  },
  {
   "cell_type": "code",
   "execution_count": 73,
   "metadata": {},
   "outputs": [
    {
     "name": "stdout",
     "output_type": "stream",
     "text": [
      "Difference: 5    15.9\n",
      "Name: avg_number_wins, dtype: float64\n"
     ]
    }
   ],
   "source": [
    "kawhi_df['avg_number_wins'] = kawhi_df.iloc[:,2:31].mean(axis=1)\n",
    "kawhi_df[giannas_df['level_0']=='TOR']['avg_number_wins']\n",
    "print('Difference:',int(sim_results[sim_results.index=='TOR']['avg_number_wins'])-kawhi_df[kawhi_df['level_0']=='TOR']['avg_number_wins'])"
   ]
  },
  {
   "cell_type": "code",
   "execution_count": 74,
   "metadata": {},
   "outputs": [
    {
     "name": "stdout",
     "output_type": "stream",
     "text": [
      "Difference: 24    20.9\n",
      "Name: avg_number_wins, dtype: float64\n"
     ]
    }
   ],
   "source": [
    "gobert_df['avg_number_wins'] = gobert_df.iloc[:,2:31].mean(axis=1)\n",
    "gobert_df[giannas_df['level_0']=='UTA']['avg_number_wins']\n",
    "print('Difference:',int(sim_results[sim_results.index=='UTA']['avg_number_wins'])-gobert_df[gobert_df['level_0']=='UTA']['avg_number_wins'])"
   ]
  },
  {
   "cell_type": "code",
   "execution_count": 75,
   "metadata": {},
   "outputs": [
    {
     "name": "stdout",
     "output_type": "stream",
     "text": [
      "Difference: 27    13.9\n",
      "Name: avg_number_wins, dtype: float64\n"
     ]
    }
   ],
   "source": [
    "lebron_df['avg_number_wins'] = lebron_df.iloc[:,2:31].mean(axis=1)\n",
    "lebron_df[lebron_df['level_0']=='LAL']['avg_number_wins']\n",
    "print('Difference:',int(sim_results[sim_results.index=='LAL']['avg_number_wins'])-lebron_df[lebron_df['level_0']=='LAL']['avg_number_wins'])"
   ]
  },
  {
   "cell_type": "markdown",
   "metadata": {},
   "source": [
    "Paul George should have won MVP"
   ]
  }
 ],
 "metadata": {
  "kernelspec": {
   "display_name": "Python 3",
   "language": "python",
   "name": "python3"
  },
  "language_info": {
   "codemirror_mode": {
    "name": "ipython",
    "version": 3
   },
   "file_extension": ".py",
   "mimetype": "text/x-python",
   "name": "python",
   "nbconvert_exporter": "python",
   "pygments_lexer": "ipython3",
   "version": "3.7.3"
  }
 },
 "nbformat": 4,
 "nbformat_minor": 2
}
