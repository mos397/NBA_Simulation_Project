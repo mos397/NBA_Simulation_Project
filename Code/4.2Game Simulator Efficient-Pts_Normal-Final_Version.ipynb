{
 "cells": [
  {
   "cell_type": "code",
   "execution_count": 1,
   "metadata": {},
   "outputs": [],
   "source": [
    "import pandas as pd\n",
    "import numpy as np\n",
    "import random\n",
    "import re\n",
    "from datetime import datetime\n",
    "%matplotlib inline"
   ]
  },
  {
   "cell_type": "markdown",
   "metadata": {},
   "source": [
    "# Making the Sim"
   ]
  },
  {
   "cell_type": "code",
   "execution_count": 2,
   "metadata": {},
   "outputs": [],
   "source": [
    "#gamelogs contains a players stats for a specific game\n",
    "#gameresults contains which teams played in a specific game and their stats\n",
    "gamelogs = pd.read_csv(\"PlayerGameLog18.csv.csv\")\n",
    "gameresults = pd.read_csv(\"TeamGamesLogsDF18.csv.csv\")"
   ]
  },
  {
   "cell_type": "code",
   "execution_count": 3,
   "metadata": {},
   "outputs": [],
   "source": [
    "gamelogs['GAME_DATE'] = pd.to_datetime(gamelogs['GAME_DATE'])\n",
    "gamelogs.set_index('GAME_DATE', inplace=True)"
   ]
  },
  {
   "cell_type": "code",
   "execution_count": 4,
   "metadata": {},
   "outputs": [],
   "source": [
    "time = gameresults\n",
    "time['GAME_DATE'] = pd.to_datetime(time['GAME_DATE'])\n",
    "time.set_index('GAME_DATE', inplace=True)"
   ]
  },
  {
   "cell_type": "code",
   "execution_count": 5,
   "metadata": {},
   "outputs": [],
   "source": [
    "pretradegames = time.loc['10/16/2018':'2/8/2019']\n",
    "posttradegames = time.loc['2/9/2019':]"
   ]
  },
  {
   "cell_type": "code",
   "execution_count": 6,
   "metadata": {},
   "outputs": [
    {
     "data": {
      "text/plain": [
       "21800829"
      ]
     },
     "execution_count": 6,
     "metadata": {},
     "output_type": "execute_result"
    }
   ],
   "source": [
    "#example of what is contained in the GAME_ID column\n",
    "posttradegames['GAME_ID'].iloc[1]"
   ]
  },
  {
   "cell_type": "code",
   "execution_count": 7,
   "metadata": {
    "scrolled": true
   },
   "outputs": [],
   "source": [
    "gameid_list = gameresults['GAME_ID'].drop_duplicates().to_list()"
   ]
  },
  {
   "cell_type": "code",
   "execution_count": 8,
   "metadata": {},
   "outputs": [
    {
     "data": {
      "text/plain": [
       "1230"
      ]
     },
     "execution_count": 8,
     "metadata": {},
     "output_type": "execute_result"
    }
   ],
   "source": [
    "len(gameid_list)"
   ]
  },
  {
   "cell_type": "code",
   "execution_count": 10,
   "metadata": {},
   "outputs": [],
   "source": [
    "#just checking how to properly get the team abbreviation from a certain game_id\n",
    "#game_id just represents the game that was played and what teams played\n",
    "bos_phi = gameresults[gameresults['GAME_ID'] == gameid_list[0]]['TEAM_ABBREVIATION'].to_list()"
   ]
  },
  {
   "cell_type": "code",
   "execution_count": 11,
   "metadata": {},
   "outputs": [
    {
     "data": {
      "text/plain": [
       "'PHI'"
      ]
     },
     "execution_count": 11,
     "metadata": {},
     "output_type": "execute_result"
    }
   ],
   "source": [
    "bos_phi[1]"
   ]
  },
  {
   "cell_type": "code",
   "execution_count": 12,
   "metadata": {},
   "outputs": [],
   "source": [
    "#setting the two rosters, one from before the trade deadline and one after the trade deadline\n",
    "pretradelog = gamelogs.loc['10/16/2018':'11/12/2018']\n",
    "posttradelog = gamelogs.loc['2/8/2019':]"
   ]
  },
  {
   "cell_type": "code",
   "execution_count": 13,
   "metadata": {},
   "outputs": [],
   "source": [
    "def set_team(matchup):\n",
    "    '''\n",
    "    Gets first team from matchup column from a game.\n",
    "    '''\n",
    "    team = re.match(r\"([A-z]+) (vs.|@)\", matchup)\n",
    "    return team.groups(1)[0]"
   ]
  },
  {
   "cell_type": "code",
   "execution_count": 14,
   "metadata": {},
   "outputs": [],
   "source": [
    "#gamelogs_with_team = gamelogs.copy()\n",
    "#gamelogs_with_team[\"TEAM\"] = gamelogs_with_team[\"MATCHUP\"].map(set_team)"
   ]
  },
  {
   "cell_type": "code",
   "execution_count": 15,
   "metadata": {},
   "outputs": [],
   "source": [
    "#Beginning of the season roster\n",
    "gamelogs_with_team = pretradelog.copy()\n",
    "gamelogs_with_team[\"TEAM\"] = gamelogs_with_team[\"MATCHUP\"].map(set_team)\n",
    "\n",
    "#Post trade-deadline roster\n",
    "gamelogs_with_team2 = posttradelog.copy()\n",
    "gamelogs_with_team2[\"TEAM\"] = gamelogs_with_team2[\"MATCHUP\"].map(set_team)"
   ]
  },
  {
   "cell_type": "code",
   "execution_count": 16,
   "metadata": {},
   "outputs": [
    {
     "data": {
      "text/plain": [
       "list"
      ]
     },
     "execution_count": 16,
     "metadata": {},
     "output_type": "execute_result"
    }
   ],
   "source": [
    "#getting all 30 teams\n",
    "team_list =  gamelogs_with_team['TEAM'].drop_duplicates().to_list()\n",
    "type(team_list)"
   ]
  },
  {
   "cell_type": "code",
   "execution_count": 18,
   "metadata": {},
   "outputs": [
    {
     "data": {
      "text/plain": [
       "30"
      ]
     },
     "execution_count": 18,
     "metadata": {},
     "output_type": "execute_result"
    }
   ],
   "source": [
    "#making sure there is 30 teams\n",
    "len(team_list)"
   ]
  },
  {
   "cell_type": "code",
   "execution_count": 19,
   "metadata": {},
   "outputs": [],
   "source": [
    "def get_roster_ids(team):\n",
    "    '''\n",
    "    Takes in team abreviation, returns list of player IDs. Before trade deadline.\n",
    "    '''\n",
    "    if type(team) == int:\n",
    "        team = gameresults[gameresults[\"TEAM_ID\"]==team].iloc[0][\"TEAM_ABBREVIATION\"]\n",
    "    playerids = gamelogs_with_team[gamelogs_with_team[\"TEAM\"]==team][\"Player_ID\"].drop_duplicates()\n",
    "    return playerids.values\n",
    "\n",
    "def get_roster_ids2(team):\n",
    "    '''\n",
    "    Takes in team abreviation, returns list of player IDs. After trade deadline.\n",
    "    '''\n",
    "    if type(team) == int:\n",
    "        team = gameresults[gameresults[\"TEAM_ID\"]==team].iloc[0][\"TEAM_ABBREVIATION\"]\n",
    "    playerids = gamelogs_with_team2[gamelogs_with_team2[\"TEAM\"]==team][\"Player_ID\"].drop_duplicates()\n",
    "    return playerids.values"
   ]
  },
  {
   "cell_type": "code",
   "execution_count": 21,
   "metadata": {},
   "outputs": [
    {
     "data": {
      "text/plain": [
       "array([ 101108,  101123, 1627737, 1627753, 1628392, 1629109,  200782,\n",
       "        201569,  201935,  203487,  203516,  203991,    2546], dtype=int64)"
      ]
     },
     "execution_count": 21,
     "metadata": {},
     "output_type": "execute_result"
    }
   ],
   "source": [
    "#making sure above function returns what we expect\n",
    "hou = get_roster_ids(\"HOU\")\n",
    "hou"
   ]
  },
  {
   "cell_type": "code",
   "execution_count": 22,
   "metadata": {},
   "outputs": [],
   "source": [
    "#getting averages and standard deviation for stat distributions\n",
    "#checked on stats_distribution_notebook, were approx. normal\n",
    "group = gamelogs.groupby(by='Player_ID')['PTS'].agg(['mean','std'])\n",
    "g_ass = gamelogs.groupby(by='Player_ID')['AST'].agg(['mean','std'])\n",
    "g_reb = gamelogs.groupby(by='Player_ID')['REB'].agg(['mean','std'])\n",
    "g_tov = gamelogs.groupby(by='Player_ID')['TOV'].agg(['mean','std'])\n",
    "g_stl = gamelogs.groupby(by='Player_ID')['STL'].agg(['mean','std'])\n",
    "g_blk = gamelogs.groupby(by='Player_ID')['BLK'].agg(['mean','std'])\n",
    "\n",
    "group.reset_index(inplace=True)\n",
    "g_ass.reset_index(inplace=True)\n",
    "g_reb.reset_index(inplace=True)\n",
    "g_tov.reset_index(inplace=True)\n",
    "g_stl.reset_index(inplace=True)\n",
    "g_blk.reset_index(inplace=True)"
   ]
  },
  {
   "cell_type": "code",
   "execution_count": 23,
   "metadata": {},
   "outputs": [],
   "source": [
    "#fill in 0 for players that didn't play\n",
    "group.fillna(0,inplace=True)\n",
    "g_ass.fillna(0, inplace=True)\n",
    "g_reb.fillna(0, inplace=True)\n",
    "g_tov.fillna(0, inplace=True)\n",
    "g_stl.fillna(0, inplace=True)\n",
    "g_blk.fillna(0, inplace=True)"
   ]
  },
  {
   "cell_type": "code",
   "execution_count": 24,
   "metadata": {},
   "outputs": [],
   "source": [
    "def sim_player(playerID, numSims=1):\n",
    "    '''\n",
    "    Takes in a player ID and calculates their points \"scored\" in a game. AKA their contribution to their team winning\n",
    "    by sampling from their stats and combining for their contribution.\n",
    "    '''\n",
    "    player_games = gamelogs[gamelogs[\"Player_ID\"]==playerID].drop(columns=[\"SEASON_ID\", \"Player_ID\", \"Game_ID\", \"MATCHUP\", \"WL\", \"VIDEO_AVAILABLE\"])\n",
    "    simmed_games = []\n",
    "    sim = 1\n",
    "    while sim <= numSims:\n",
    "        randGame = random.randint(1,83)\n",
    "        if randGame > len(player_games):\n",
    "            #player_games.iloc[len(player_games)]=np.zeros(20)\n",
    "            return 0\n",
    "        else:\n",
    "            pts = (round(int(np.random.normal(group[group['Player_ID']==playerID]['mean'],group[group['Player_ID']==playerID]['std'],1))))\n",
    "            reb = (round(int(np.random.normal(g_reb[g_reb['Player_ID']==playerID]['mean'],g_reb[g_reb['Player_ID']==playerID]['std'],1))))\n",
    "            ass = (round(int(np.random.normal(g_ass[g_ass['Player_ID']==playerID]['mean'],g_ass[g_ass['Player_ID']==playerID]['std'],1))))\n",
    "            stl = (round(int(np.random.normal(g_stl[g_stl['Player_ID']==playerID]['mean'],g_stl[g_stl['Player_ID']==playerID]['std'],1))))\n",
    "            blk = (round(int(np.random.normal(g_blk[g_blk['Player_ID']==playerID]['mean'],g_blk[g_blk['Player_ID']==playerID]['std'],1))))\n",
    "            tov = (round(int(np.random.normal(g_tov[g_tov['Player_ID']==playerID]['mean'],g_tov[g_tov['Player_ID']==playerID]['std'],1))))\n",
    "            score = pts + round(1.7*reb) + round(2*ass) + round(9*stl)+ round(6*blk)-round(5*tov)\n",
    "            if score >= 0:\n",
    "                return score\n",
    "            else:\n",
    "                return 0\n",
    "        sim += 1\n",
    "#https://fivethirtyeight.com/features/the-hidden-value-of-the-nba-steal/\n",
    "#article goes into detail about the contribution aspect"
   ]
  },
  {
   "cell_type": "code",
   "execution_count": 25,
   "metadata": {},
   "outputs": [],
   "source": [
    "def sim_team(playerIDs, numSims=1):\n",
    "    '''\n",
    "    Takes in player IDs to pass through to player_sims function.\n",
    "    Returns points scored. Can keep track of a list of player IDs\n",
    "    which is a team.\n",
    "    '''\n",
    "    sims_raw = []\n",
    "    for playerID in playerIDs:\n",
    "        player_sims = sim_player(playerID, numSims)\n",
    "        sims_raw.append(player_sims)\n",
    "    return sims_raw"
   ]
  },
  {
   "cell_type": "code",
   "execution_count": 26,
   "metadata": {},
   "outputs": [
    {
     "data": {
      "text/plain": [
       "264"
      ]
     },
     "execution_count": 26,
     "metadata": {},
     "output_type": "execute_result"
    }
   ],
   "source": [
    "#checking to make sure it works\n",
    "sum(sim_team(get_roster_ids('HOU'),1))"
   ]
  },
  {
   "cell_type": "code",
   "execution_count": 27,
   "metadata": {},
   "outputs": [
    {
     "data": {
      "text/plain": [
       "[0, 22, 20, 15, 6, 17, 0, 0, 10, 51, 0, 17, 42, 0]"
      ]
     },
     "execution_count": 27,
     "metadata": {},
     "output_type": "execute_result"
    }
   ],
   "source": [
    "#another check\n",
    "team1_sims = sim_team(get_roster_ids(\"CHA\"), 1)\n",
    "\n",
    "team1_sims"
   ]
  },
  {
   "cell_type": "code",
   "execution_count": 28,
   "metadata": {},
   "outputs": [],
   "source": [
    "#before trade deadline\n",
    "def sim_games(team1, team2, numSims=1):\n",
    "    '''\n",
    "    Takes in two teams and passes them through the sim team function \n",
    "    and returns how many games each team won. Uses get_roster_ids to get player\n",
    "    IDs to pass through.\n",
    "    '''\n",
    "    team1_roster = get_roster_ids(team1)\n",
    "    team2_roster = get_roster_ids(team2)\n",
    "    results = [0,0]\n",
    "    for game in range(0, numSims):\n",
    "        team1_sims = sim_team(team1_roster, 1)\n",
    "        team2_sims = sim_team(team2_roster, 1)\n",
    "        if sum(team1_sims) > sum(team2_sims):\n",
    "            results[0] += 1\n",
    "        else:\n",
    "            results[1] += 1\n",
    "    return results\n",
    "\n",
    "#after trade deadline\n",
    "def sim_games2(team1, team2, numSims=1):\n",
    "    '''\n",
    "    Takes in two teams and passes them through the sim team function \n",
    "    and returns how many games each team won.\n",
    "    '''\n",
    "    team1_roster = get_roster_ids2(team1)\n",
    "    team2_roster = get_roster_ids2(team2)\n",
    "    results = [0,0]\n",
    "    for game in range(0, numSims):\n",
    "        team1_sims = sim_team(team1_roster, 1)\n",
    "        team2_sims = sim_team(team2_roster, 1)\n",
    "        if sum(team1_sims) > sum(team2_sims):\n",
    "            results[0] += 1\n",
    "        else:\n",
    "            results[1] += 1\n",
    "    return results"
   ]
  },
  {
   "cell_type": "code",
   "execution_count": 30,
   "metadata": {},
   "outputs": [
    {
     "data": {
      "text/plain": [
       "[10, 0]"
      ]
     },
     "execution_count": 30,
     "metadata": {},
     "output_type": "execute_result"
    }
   ],
   "source": [
    "#checking to make sure it works, HOU should beat CLE handily\n",
    "sim_games2(\"HOU\", \"CLE\", 10)"
   ]
  },
  {
   "cell_type": "code",
   "execution_count": 31,
   "metadata": {},
   "outputs": [],
   "source": [
    "def get_game(gameid):\n",
    "    '''\n",
    "    Takes in a game ID and returns which two teams played in that game.\n",
    "    '''\n",
    "    teams = gameresults[gameresults['GAME_ID'] == gameid_list[gameid]]['TEAM_ABBREVIATION'].to_list()\n",
    "    return teams[0], teams[1]   "
   ]
  },
  {
   "cell_type": "code",
   "execution_count": 32,
   "metadata": {},
   "outputs": [
    {
     "data": {
      "text/plain": [
       "('GSW', 'OKC')"
      ]
     },
     "execution_count": 32,
     "metadata": {},
     "output_type": "execute_result"
    }
   ],
   "source": [
    "#checking to make sure it works\n",
    "get_game(1)"
   ]
  },
  {
   "cell_type": "code",
   "execution_count": 33,
   "metadata": {},
   "outputs": [],
   "source": [
    "def sim_season(numSimss=1):\n",
    "    '''\n",
    "    Takes in how many seasons you want to run and returns a dataframe\n",
    "    of the different seasons and each team's number of wins in that season.\n",
    "    '''\n",
    "    team_wins = pd.DataFrame(columns=[team_list])\n",
    "    team_wins = team_wins.append(pd.Series(name='Win_Count'))\n",
    "    team_wins.fillna(0,inplace=True)\n",
    "    \n",
    "    for games in range(len(gameid_list)):\n",
    "        wins = []\n",
    "        if gameid_list[games] == pretradegames['GAME_ID'].iloc[games]:\n",
    "            wins = sim_games(get_game(games)[0],get_game(games)[1],numSimss)\n",
    "            if wins[0] > wins[1]:\n",
    "                team_wins[get_game(games)[0]] +=1\n",
    "            else:\n",
    "                team_wins[get_game(games)[1]] +=1\n",
    "        else:\n",
    "            wins = sim_games2(get_game(games)[0],get_game(games)[1],numSimss)\n",
    "            if wins[0] > wins[1]:\n",
    "                team_wins[get_game(games)[0]] +=1\n",
    "            else:\n",
    "                team_wins[get_game(games)[1]] +=1\n",
    "    return team_wins"
   ]
  },
  {
   "cell_type": "markdown",
   "metadata": {},
   "source": [
    "# Running the sim"
   ]
  },
  {
   "cell_type": "code",
   "execution_count": null,
   "metadata": {},
   "outputs": [],
   "source": [
    "%%time\n",
    "#running one sim\n",
    "sim_wins = sim_season(1)"
   ]
  },
  {
   "cell_type": "code",
   "execution_count": null,
   "metadata": {},
   "outputs": [],
   "source": [
    "pivotwins = sim_wins.transpose()"
   ]
  },
  {
   "cell_type": "code",
   "execution_count": null,
   "metadata": {},
   "outputs": [],
   "source": [
    "pivotwins.sort_values(by='Win_Count', ascending=False)"
   ]
  },
  {
   "cell_type": "code",
   "execution_count": 354,
   "metadata": {},
   "outputs": [],
   "source": [
    "import functools "
   ]
  },
  {
   "cell_type": "code",
   "execution_count": 353,
   "metadata": {},
   "outputs": [
    {
     "ename": "NameError",
     "evalue": "name 'listwins' is not defined",
     "output_type": "error",
     "traceback": [
      "\u001b[1;31m---------------------------------------------------------------------------\u001b[0m",
      "\u001b[1;31mNameError\u001b[0m                                 Traceback (most recent call last)",
      "\u001b[1;32m<ipython-input-353-58c8850a7788>\u001b[0m in \u001b[0;36m<module>\u001b[1;34m\u001b[0m\n\u001b[0;32m      1\u001b[0m \u001b[1;32mimport\u001b[0m \u001b[0mfunctools\u001b[0m\u001b[1;33m\u001b[0m\u001b[1;33m\u001b[0m\u001b[0m\n\u001b[0;32m      2\u001b[0m df_merged = functools.reduce(lambda  left,right: pd.merge(left,right,on=['level_0'],\n\u001b[1;32m----> 3\u001b[1;33m                                             how='outer'), listwins)\n\u001b[0m",
      "\u001b[1;31mNameError\u001b[0m: name 'listwins' is not defined"
     ]
    }
   ],
   "source": [
    "#checking how to merge multiple simulated seasons together\n",
    "df_merged = functools.reduce(lambda  left,right: pd.merge(left,right,on=['level_0'],\n",
    "                                            how='outer'), listwins)"
   ]
  },
  {
   "cell_type": "code",
   "execution_count": null,
   "metadata": {},
   "outputs": [],
   "source": [
    "#creating a list for sim names\n",
    "sim_list = []\n",
    "for i in range(100):\n",
    "    sim_list.append('sim'+str(i))"
   ]
  },
  {
   "cell_type": "code",
   "execution_count": null,
   "metadata": {},
   "outputs": [],
   "source": [
    "#running the simulation 100 times aka 100 seasons\n",
    "filled_sim_list = []\n",
    "for simulation in sim_list:\n",
    "    simulation = sim_season(1)\n",
    "    simulation = simulation.transpose()\n",
    "    simulation = simulation.reset_index()\n",
    "    filled_sim_list.append(simulation)"
   ]
  },
  {
   "cell_type": "code",
   "execution_count": null,
   "metadata": {},
   "outputs": [],
   "source": [
    "#merging into one dataframe\n",
    "simulation100 = functools.reduce(lambda  left,right: pd.merge(left,right,on=['level_0'],\n",
    "                                            how='outer'), filled_sim_list)"
   ]
  },
  {
   "cell_type": "code",
   "execution_count": null,
   "metadata": {},
   "outputs": [],
   "source": [
    "#checking\n",
    "simulation100"
   ]
  },
  {
   "cell_type": "code",
   "execution_count": null,
   "metadata": {},
   "outputs": [],
   "source": [
    "#writing to CSV\n",
    "simulation100.to_csv('simulation_results.csv')"
   ]
  },
  {
   "cell_type": "markdown",
   "metadata": {},
   "source": [
    "# Modifying for All Star Analysis"
   ]
  },
  {
   "cell_type": "code",
   "execution_count": 67,
   "metadata": {},
   "outputs": [
    {
     "data": {
      "text/plain": [
       "[48, 52, 55, 58, 42, 63, 35]"
      ]
     },
     "execution_count": 67,
     "metadata": {},
     "output_type": "execute_result"
    }
   ],
   "source": [
    "#list of all-star players, ASG is guards, ASW is wings, and ASF is Frontcourts or bigs \n",
    "#list was obtained from the all-nba awards and all-star awards found on NBA.com\n",
    "ASG = [201935,202681,201939,202689,203078,203081,201566]\n",
    "ASW = [201142,2544,202695,202331,203114,203507,1627732]\n",
    "ASF = [203999,203954,203497,1626157,200746,202696,203076]"
   ]
  },
  {
   "cell_type": "code",
   "execution_count": 68,
   "metadata": {},
   "outputs": [],
   "source": [
    "def sim_all_star_games(team1, team2, numSims=1):\n",
    "    '''\n",
    "    Takes in two teams and passes them through the sim team function \n",
    "    and returns how many games each team won. \n",
    "    '''\n",
    "    team1_roster = team1\n",
    "    team2_roster = team2\n",
    "    results = [0,0]\n",
    "    for game in range(0, numSims):\n",
    "        team1_sims = sim_team(team1_roster, 1)\n",
    "        team2_sims = sim_team(team2_roster, 1)\n",
    "        if sum(team1_sims) > sum(team2_sims):\n",
    "            results[0] += 1\n",
    "        else:\n",
    "            results[1] += 1\n",
    "    return results"
   ]
  },
  {
   "cell_type": "code",
   "execution_count": null,
   "metadata": {},
   "outputs": [],
   "source": [
    "#simulating the all-star teams against each other"
   ]
  },
  {
   "cell_type": "code",
   "execution_count": 70,
   "metadata": {},
   "outputs": [
    {
     "data": {
      "text/plain": [
       "[579, 421]"
      ]
     },
     "execution_count": 70,
     "metadata": {},
     "output_type": "execute_result"
    }
   ],
   "source": [
    "sim_all_star_games(ASG,ASW,1000)\n",
    "#guards beating wings"
   ]
  },
  {
   "cell_type": "code",
   "execution_count": 71,
   "metadata": {},
   "outputs": [
    {
     "data": {
      "text/plain": [
       "[419, 581]"
      ]
     },
     "execution_count": 71,
     "metadata": {},
     "output_type": "execute_result"
    }
   ],
   "source": [
    "sim_all_star_games(ASG,ASF,1000)\n",
    "#Guards losing to bigs"
   ]
  },
  {
   "cell_type": "code",
   "execution_count": 72,
   "metadata": {},
   "outputs": [
    {
     "data": {
      "text/plain": [
       "[654, 346]"
      ]
     },
     "execution_count": 72,
     "metadata": {},
     "output_type": "execute_result"
    }
   ],
   "source": [
    "sim_all_star_games(ASF,ASW,1000)\n",
    "#Bigs beating wings"
   ]
  },
  {
   "cell_type": "markdown",
   "metadata": {},
   "source": [
    "# Taking out the \"injuries\" aspect to see if that changes results"
   ]
  },
  {
   "cell_type": "code",
   "execution_count": 289,
   "metadata": {},
   "outputs": [],
   "source": [
    "def sim_player_without_injuries(playerID, numSims=1):\n",
    "    '''\n",
    "    Takes in a player ID and calculates there points scored in a game. \n",
    "    '''\n",
    "    player_games = gamelogs[gamelogs[\"Player_ID\"]==playerID].drop(columns=[\"SEASON_ID\", \"Player_ID\", \"Game_ID\", \"MATCHUP\", \"WL\", \"VIDEO_AVAILABLE\"])\n",
    "    simmed_games = []\n",
    "    sim = 1\n",
    "    while sim <= numSims:\n",
    "        #modified this part to insure that they always play\n",
    "        randGame = random.randint(1,3)\n",
    "        if randGame > len(player_games):\n",
    "            #player_games.iloc[len(player_games)]=np.zeros(20)\n",
    "            return 0\n",
    "        else:\n",
    "            pts = (round(int(np.random.normal(group[group['Player_ID']==playerID]['mean'],group[group['Player_ID']==playerID]['std'],1))))\n",
    "            reb = (round(int(np.random.normal(g_reb[g_reb['Player_ID']==playerID]['mean'],g_reb[g_reb['Player_ID']==playerID]['std'],1))))\n",
    "            ass = (round(int(np.random.normal(g_ass[g_ass['Player_ID']==playerID]['mean'],g_ass[g_ass['Player_ID']==playerID]['std'],1))))\n",
    "            stl = (round(int(np.random.normal(g_stl[g_stl['Player_ID']==playerID]['mean'],g_stl[g_stl['Player_ID']==playerID]['std'],1))))\n",
    "            blk = (round(int(np.random.normal(g_blk[g_blk['Player_ID']==playerID]['mean'],g_blk[g_blk['Player_ID']==playerID]['std'],1))))\n",
    "            tov = (round(int(np.random.normal(g_tov[g_tov['Player_ID']==playerID]['mean'],g_tov[g_tov['Player_ID']==playerID]['std'],1))))\n",
    "            score = pts + (1.7*reb) + (2*ass) + (9*stl)+ (6*blk)-(5*tov)\n",
    "            if score >= 0:\n",
    "                return score\n",
    "            else:\n",
    "                return 0\n",
    "        sim += 1"
   ]
  },
  {
   "cell_type": "code",
   "execution_count": 290,
   "metadata": {},
   "outputs": [],
   "source": [
    "def sim_team_all_star_without_injuries(playerIDs, numSims=1):\n",
    "    '''\n",
    "    Takes in player IDs to pass through to player_sims function.\n",
    "    Returns points scored. Can keep track of a list of player IDs\n",
    "    which is a team.\n",
    "    '''\n",
    "    sims_raw = []\n",
    "    for playerID in playerIDs:\n",
    "        player_sims = sim_player_without_injuries(playerID, numSims)\n",
    "        sims_raw.append(player_sims)\n",
    "    return sims_raw"
   ]
  },
  {
   "cell_type": "code",
   "execution_count": 291,
   "metadata": {},
   "outputs": [],
   "source": [
    "def sim_all_star_games_without_injuries(team1, team2, numSims=1):\n",
    "    '''\n",
    "    Takes in two teams and passes them through the sim team function \n",
    "    and returns how many games each team won. \n",
    "    '''\n",
    "    team1_roster = team1\n",
    "    team2_roster = team2\n",
    "    results = [0,0]\n",
    "    for game in range(0, numSims):\n",
    "        team1_sims = sim_team_all_star_without_injuries(team1_roster, 1)\n",
    "        team2_sims = sim_team_all_star_without_injuries(team2_roster, 1)\n",
    "        if sum(team1_sims) > sum(team2_sims):\n",
    "            results[0] += 1\n",
    "        else:\n",
    "            results[1] += 1\n",
    "    return results"
   ]
  },
  {
   "cell_type": "code",
   "execution_count": 292,
   "metadata": {},
   "outputs": [
    {
     "data": {
      "text/plain": [
       "[489, 511]"
      ]
     },
     "execution_count": 292,
     "metadata": {},
     "output_type": "execute_result"
    }
   ],
   "source": [
    "sim_all_star_games_without_injuries(ASG,ASW,1000)"
   ]
  },
  {
   "cell_type": "code",
   "execution_count": 293,
   "metadata": {},
   "outputs": [
    {
     "data": {
      "text/plain": [
       "[317, 683]"
      ]
     },
     "execution_count": 293,
     "metadata": {},
     "output_type": "execute_result"
    }
   ],
   "source": [
    "sim_all_star_games_without_injuries(ASG,ASF,1000)"
   ]
  },
  {
   "cell_type": "code",
   "execution_count": 294,
   "metadata": {},
   "outputs": [
    {
     "data": {
      "text/plain": [
       "[684, 316]"
      ]
     },
     "execution_count": 294,
     "metadata": {},
     "output_type": "execute_result"
    }
   ],
   "source": [
    "sim_all_star_games_without_injuries(ASF,ASW,1000)"
   ]
  },
  {
   "cell_type": "code",
   "execution_count": null,
   "metadata": {},
   "outputs": [],
   "source": [
    "#frontcourt still wins, guards and wings about even"
   ]
  },
  {
   "cell_type": "markdown",
   "metadata": {},
   "source": [
    "# Average All-Star with average team "
   ]
  },
  {
   "cell_type": "code",
   "execution_count": 107,
   "metadata": {},
   "outputs": [],
   "source": [
    "def position_mapper(x):\n",
    "    '''\n",
    "    maps g to allstar guards\n",
    "    maps w to allstar wings\n",
    "    maps f to allstar frontcourt players\n",
    "    '''\n",
    "    if x in ASG:\n",
    "        return 'G'\n",
    "    elif x in ASW:\n",
    "        return 'W'\n",
    "    elif x in ASF:\n",
    "        return 'F'\n",
    "    else:\n",
    "        return 'N'"
   ]
  },
  {
   "cell_type": "code",
   "execution_count": 119,
   "metadata": {},
   "outputs": [],
   "source": [
    "all_stars_mapped = gamelogs.copy()"
   ]
  },
  {
   "cell_type": "code",
   "execution_count": 120,
   "metadata": {},
   "outputs": [],
   "source": [
    "all_stars_mapped['position'] = all_stars_mapped['Player_ID'].map(position_mapper)"
   ]
  },
  {
   "cell_type": "code",
   "execution_count": 148,
   "metadata": {},
   "outputs": [],
   "source": [
    "#finding the average stat for the all-star players by class\n",
    "#will have all-star guard(g), wing(w), frontcourt(f), and normal players(n)\n",
    "all_star_avg = all_stars_mapped.groupby(by='position')[['PTS','REB','AST','TOV','STL','BLK']].mean()\n",
    "all_star_std = all_stars_mapped.groupby(by='position')[['PTS','REB','AST','TOV','STL','BLK']].std()"
   ]
  },
  {
   "cell_type": "code",
   "execution_count": 151,
   "metadata": {},
   "outputs": [],
   "source": [
    "all_star_std.rename(columns={'PTS': 'pts_std', 'REB': 'reb_std','AST':'ast_std','TOV':'tov_std','STL':'stl_std','BLK':'blk_std'},inplace=True)"
   ]
  },
  {
   "cell_type": "code",
   "execution_count": 153,
   "metadata": {},
   "outputs": [],
   "source": [
    "#all_star_avg.columns.set_levels(['pts_average','pts_std','reb_average','reb_std','ast_average','ast_std','tov_average','tov_std','stl_average','stl_std','blk_average','blk_std'],level=1,inplace=True)"
   ]
  },
  {
   "cell_type": "code",
   "execution_count": 157,
   "metadata": {},
   "outputs": [],
   "source": [
    "asm = all_star_avg.merge(all_star_std, left_on='position',right_on='position')"
   ]
  },
  {
   "cell_type": "code",
   "execution_count": 158,
   "metadata": {},
   "outputs": [],
   "source": [
    "#calcuating their contribution\n",
    "asm['contribution']=asm['PTS'] + 1.7*asm['REB'] + 2*asm['AST'] + 9*asm['TOV'] + 6*asm['STL'] - 5*asm['BLK']"
   ]
  },
  {
   "cell_type": "code",
   "execution_count": 161,
   "metadata": {},
   "outputs": [
    {
     "data": {
      "text/html": [
       "<div>\n",
       "<style scoped>\n",
       "    .dataframe tbody tr th:only-of-type {\n",
       "        vertical-align: middle;\n",
       "    }\n",
       "\n",
       "    .dataframe tbody tr th {\n",
       "        vertical-align: top;\n",
       "    }\n",
       "\n",
       "    .dataframe thead th {\n",
       "        text-align: right;\n",
       "    }\n",
       "</style>\n",
       "<table border=\"1\" class=\"dataframe\">\n",
       "  <thead>\n",
       "    <tr style=\"text-align: right;\">\n",
       "      <th></th>\n",
       "      <th>PTS</th>\n",
       "      <th>REB</th>\n",
       "      <th>AST</th>\n",
       "      <th>TOV</th>\n",
       "      <th>STL</th>\n",
       "      <th>BLK</th>\n",
       "      <th>pts_std</th>\n",
       "      <th>reb_std</th>\n",
       "      <th>ast_std</th>\n",
       "      <th>tov_std</th>\n",
       "      <th>stl_std</th>\n",
       "      <th>blk_std</th>\n",
       "      <th>contribution</th>\n",
       "    </tr>\n",
       "    <tr>\n",
       "      <th>position</th>\n",
       "      <th></th>\n",
       "      <th></th>\n",
       "      <th></th>\n",
       "      <th></th>\n",
       "      <th></th>\n",
       "      <th></th>\n",
       "      <th></th>\n",
       "      <th></th>\n",
       "      <th></th>\n",
       "      <th></th>\n",
       "      <th></th>\n",
       "      <th></th>\n",
       "      <th></th>\n",
       "    </tr>\n",
       "  </thead>\n",
       "  <tbody>\n",
       "    <tr>\n",
       "      <th>G</th>\n",
       "      <td>26.813559</td>\n",
       "      <td>5.973635</td>\n",
       "      <td>6.926554</td>\n",
       "      <td>3.244821</td>\n",
       "      <td>1.517891</td>\n",
       "      <td>0.519774</td>\n",
       "      <td>9.831653</td>\n",
       "      <td>3.391897</td>\n",
       "      <td>3.511742</td>\n",
       "      <td>2.010432</td>\n",
       "      <td>1.367121</td>\n",
       "      <td>0.727547</td>\n",
       "      <td>86.533710</td>\n",
       "    </tr>\n",
       "    <tr>\n",
       "      <th>W</th>\n",
       "      <td>24.146586</td>\n",
       "      <td>8.202811</td>\n",
       "      <td>5.608434</td>\n",
       "      <td>2.939759</td>\n",
       "      <td>1.385542</td>\n",
       "      <td>0.708835</td>\n",
       "      <td>8.449435</td>\n",
       "      <td>3.825288</td>\n",
       "      <td>2.925172</td>\n",
       "      <td>1.781976</td>\n",
       "      <td>1.267117</td>\n",
       "      <td>0.977391</td>\n",
       "      <td>80.535141</td>\n",
       "    </tr>\n",
       "    <tr>\n",
       "      <th>F</th>\n",
       "      <td>21.913295</td>\n",
       "      <td>11.766859</td>\n",
       "      <td>3.763006</td>\n",
       "      <td>2.425819</td>\n",
       "      <td>0.961464</td>\n",
       "      <td>1.579961</td>\n",
       "      <td>8.491092</td>\n",
       "      <td>4.343101</td>\n",
       "      <td>2.705582</td>\n",
       "      <td>1.699928</td>\n",
       "      <td>1.010781</td>\n",
       "      <td>1.396653</td>\n",
       "      <td>69.144316</td>\n",
       "    </tr>\n",
       "    <tr>\n",
       "      <th>N</th>\n",
       "      <td>9.609294</td>\n",
       "      <td>3.980898</td>\n",
       "      <td>2.120270</td>\n",
       "      <td>1.174887</td>\n",
       "      <td>0.683582</td>\n",
       "      <td>0.437258</td>\n",
       "      <td>7.512315</td>\n",
       "      <td>3.326570</td>\n",
       "      <td>2.328597</td>\n",
       "      <td>1.291957</td>\n",
       "      <td>0.929994</td>\n",
       "      <td>0.801636</td>\n",
       "      <td>33.106549</td>\n",
       "    </tr>\n",
       "  </tbody>\n",
       "</table>\n",
       "</div>"
      ],
      "text/plain": [
       "                PTS        REB       AST       TOV       STL       BLK  \\\n",
       "position                                                                 \n",
       "G         26.813559   5.973635  6.926554  3.244821  1.517891  0.519774   \n",
       "W         24.146586   8.202811  5.608434  2.939759  1.385542  0.708835   \n",
       "F         21.913295  11.766859  3.763006  2.425819  0.961464  1.579961   \n",
       "N          9.609294   3.980898  2.120270  1.174887  0.683582  0.437258   \n",
       "\n",
       "           pts_std   reb_std   ast_std   tov_std   stl_std   blk_std  \\\n",
       "position                                                               \n",
       "G         9.831653  3.391897  3.511742  2.010432  1.367121  0.727547   \n",
       "W         8.449435  3.825288  2.925172  1.781976  1.267117  0.977391   \n",
       "F         8.491092  4.343101  2.705582  1.699928  1.010781  1.396653   \n",
       "N         7.512315  3.326570  2.328597  1.291957  0.929994  0.801636   \n",
       "\n",
       "          contribution  \n",
       "position                \n",
       "G            86.533710  \n",
       "W            80.535141  \n",
       "F            69.144316  \n",
       "N            33.106549  "
      ]
     },
     "execution_count": 161,
     "metadata": {},
     "output_type": "execute_result"
    }
   ],
   "source": [
    "#can see that guards have best contribution but why do the frontcourt win?\n",
    "asm.sort_values(by='contribution',ascending=False)"
   ]
  },
  {
   "cell_type": "markdown",
   "metadata": {},
   "source": [
    "# Checking Why F are the best"
   ]
  },
  {
   "cell_type": "code",
   "execution_count": 164,
   "metadata": {},
   "outputs": [],
   "source": [
    "games_played = all_stars_mapped.groupby(by='position')[['Game_ID']].count()"
   ]
  },
  {
   "cell_type": "code",
   "execution_count": 168,
   "metadata": {},
   "outputs": [],
   "source": [
    "#ignore N for this\n",
    "games_played['Percent Played']=(games_played['Game_ID']/(7*82))*100"
   ]
  },
  {
   "cell_type": "code",
   "execution_count": 169,
   "metadata": {},
   "outputs": [
    {
     "data": {
      "text/html": [
       "<div>\n",
       "<style scoped>\n",
       "    .dataframe tbody tr th:only-of-type {\n",
       "        vertical-align: middle;\n",
       "    }\n",
       "\n",
       "    .dataframe tbody tr th {\n",
       "        vertical-align: top;\n",
       "    }\n",
       "\n",
       "    .dataframe thead th {\n",
       "        text-align: right;\n",
       "    }\n",
       "</style>\n",
       "<table border=\"1\" class=\"dataframe\">\n",
       "  <thead>\n",
       "    <tr style=\"text-align: right;\">\n",
       "      <th></th>\n",
       "      <th>Game_ID</th>\n",
       "      <th>Percent Played</th>\n",
       "    </tr>\n",
       "    <tr>\n",
       "      <th>position</th>\n",
       "      <th></th>\n",
       "      <th></th>\n",
       "    </tr>\n",
       "  </thead>\n",
       "  <tbody>\n",
       "    <tr>\n",
       "      <th>F</th>\n",
       "      <td>519</td>\n",
       "      <td>90.418118</td>\n",
       "    </tr>\n",
       "    <tr>\n",
       "      <th>G</th>\n",
       "      <td>531</td>\n",
       "      <td>92.508711</td>\n",
       "    </tr>\n",
       "    <tr>\n",
       "      <th>N</th>\n",
       "      <td>24553</td>\n",
       "      <td>4277.526132</td>\n",
       "    </tr>\n",
       "    <tr>\n",
       "      <th>W</th>\n",
       "      <td>498</td>\n",
       "      <td>86.759582</td>\n",
       "    </tr>\n",
       "  </tbody>\n",
       "</table>\n",
       "</div>"
      ],
      "text/plain": [
       "          Game_ID  Percent Played\n",
       "position                         \n",
       "F             519       90.418118\n",
       "G             531       92.508711\n",
       "N           24553     4277.526132\n",
       "W             498       86.759582"
      ]
     },
     "execution_count": 169,
     "metadata": {},
     "output_type": "execute_result"
    }
   ],
   "source": [
    "#wings played the least but why did fowards win? More reliable? I.E. lower standard deviations?\n",
    "games_played"
   ]
  },
  {
   "cell_type": "code",
   "execution_count": 297,
   "metadata": {},
   "outputs": [],
   "source": [
    "def sim_player_avg_as(playerID, numSims=1):\n",
    "    '''\n",
    "    Takes in a player ID and calculates there points scored in a game. This is for the average all star stats.\n",
    "    Not accounting for injuries.\n",
    "    '''\n",
    "    sim = 1\n",
    "    while sim <= numSims:\n",
    "        pts = (round(int(np.random.normal(asm[asm.index ==playerID]['PTS'],asm[asm.index==playerID]['pts_std'],1))))\n",
    "        reb = (round(int(np.random.normal(asm[asm.index ==playerID]['REB'],asm[asm.index==playerID]['reb_std'],1))))\n",
    "        ass = (round(int(np.random.normal(asm[asm.index ==playerID]['AST'],asm[asm.index==playerID]['ast_std'],1))))\n",
    "        stl = (round(int(np.random.normal(asm[asm.index ==playerID]['STL'],asm[asm.index==playerID]['stl_std'],1))))\n",
    "        blk = (round(int(np.random.normal(asm[asm.index ==playerID]['BLK'],asm[asm.index==playerID]['blk_std'],1))))\n",
    "        tov = (round(int(np.random.normal(asm[asm.index ==playerID]['TOV'],asm[asm.index==playerID]['tov_std'],1))))\n",
    "        score = pts + round(1.7*reb) + round(2*ass) + round(9*stl) + round(6*blk) - round(5*tov)\n",
    "        if score >= 0:\n",
    "            return score\n",
    "        else:\n",
    "            return 0\n",
    "        sim += 1"
   ]
  },
  {
   "cell_type": "code",
   "execution_count": 302,
   "metadata": {},
   "outputs": [],
   "source": [
    "#simulating total contribution with their standard deviation per game.\n",
    "g_total=[]\n",
    "w_total=[]\n",
    "f_total=[]\n",
    "n_total=[]\n",
    "for i in range(10000):\n",
    "    g_contribution = sim_player_avg_as('G',1)\n",
    "    w_contribution = sim_player_avg_as('W',1)\n",
    "    f_contribution = sim_player_avg_as('F',1)\n",
    "    n_contribution = sim_player_avg_as('N',1)\n",
    "    g_total.append(g_contribution)\n",
    "    w_total.append(w_contribution)\n",
    "    f_total.append(f_contribution)\n",
    "    n_total.append(n_contribution)"
   ]
  },
  {
   "cell_type": "code",
   "execution_count": 303,
   "metadata": {},
   "outputs": [
    {
     "name": "stdout",
     "output_type": "stream",
     "text": [
      "guards: 464905 std 19.785738735152893\n",
      "wings: 465382 std 18.39217681452627\n",
      "frontcourt: 504846 std 18.03163544517476\n",
      "normies: 200812 std 12.673889273105186\n"
     ]
    }
   ],
   "source": [
    "import statistics\n",
    "print('guards:', sum(g_total), 'std', statistics.stdev(g_total))\n",
    "print('wings:', sum(w_total), 'std', statistics.stdev(w_total))\n",
    "print('frontcourt:', sum(f_total), 'std',statistics.stdev(f_total))\n",
    "print('normies:', sum(n_total),'std',statistics.stdev(n_total))"
   ]
  },
  {
   "cell_type": "code",
   "execution_count": null,
   "metadata": {},
   "outputs": [],
   "source": [
    "#bigs have lower standard dev.\n",
    "#also maybe too much emphasis on blocks?\n",
    "#find better distribution for blocks?"
   ]
  },
  {
   "cell_type": "markdown",
   "metadata": {},
   "source": [
    "# Removing MVP candidates to see who had the biggest impact on team wins"
   ]
  },
  {
   "cell_type": "code",
   "execution_count": 322,
   "metadata": {},
   "outputs": [],
   "source": [
    "#list of top players recieving MVP votes. If teams had multiple players, the one with the most was selected.\n",
    "#https://www.basketball-reference.com/awards/awards_2019.html"
   ]
  },
  {
   "cell_type": "code",
   "execution_count": 325,
   "metadata": {},
   "outputs": [],
   "source": [
    "def sim_player_mvp(playerID, numSims=1):\n",
    "    '''\n",
    "    Takes in a player ID and calculates there points scored in a game. Will not select the chosen MVP candidate.\n",
    "    '''\n",
    "    player_games = gamelogs[gamelogs[\"Player_ID\"]==playerID].drop(columns=[\"SEASON_ID\", \"Player_ID\", \"Game_ID\", \"MATCHUP\", \"WL\", \"VIDEO_AVAILABLE\"])\n",
    "    simmed_games = []\n",
    "    sim = 1\n",
    "    while sim <= numSims:\n",
    "        randGame = random.randint(1,83)\n",
    "        if randGame > len(player_games) or player == playerID:\n",
    "            #player_games.iloc[len(player_games)]=np.zeros(20)\n",
    "            return 0\n",
    "        else:\n",
    "            pts = (round(int(np.random.normal(group[group['Player_ID']==playerID]['mean'],group[group['Player_ID']==playerID]['std'],1))))\n",
    "            reb = (round(int(np.random.normal(g_reb[g_reb['Player_ID']==playerID]['mean'],g_reb[g_reb['Player_ID']==playerID]['std'],1))))\n",
    "            ass = (round(int(np.random.normal(g_ass[g_ass['Player_ID']==playerID]['mean'],g_ass[g_ass['Player_ID']==playerID]['std'],1))))\n",
    "            stl = (round(int(np.random.normal(g_stl[g_stl['Player_ID']==playerID]['mean'],g_stl[g_stl['Player_ID']==playerID]['std'],1))))\n",
    "            blk = (round(int(np.random.normal(g_blk[g_blk['Player_ID']==playerID]['mean'],g_blk[g_blk['Player_ID']==playerID]['std'],1))))\n",
    "            tov = (round(int(np.random.normal(g_tov[g_tov['Player_ID']==playerID]['mean'],g_tov[g_tov['Player_ID']==playerID]['std'],1))))\n",
    "            score = pts + round(1.7*reb) + round(2*ass) + round(9*stl)+ round(6*blk)-round(5*tov)\n",
    "            if score >= 0:\n",
    "                return score\n",
    "            else:\n",
    "                return 0\n",
    "        sim += 1"
   ]
  },
  {
   "cell_type": "code",
   "execution_count": 326,
   "metadata": {},
   "outputs": [],
   "source": [
    "def sim_team_mvp(playerIDs, numSims=1):\n",
    "    '''\n",
    "    Takes in player IDs to pass through to player_sims function.\n",
    "    Returns points scored. Can keep track of a list of player IDs\n",
    "    which is a team.\n",
    "    '''\n",
    "    sims_raw = []\n",
    "    for playerID in playerIDs:\n",
    "        player_sims = sim_player_mvp(playerID, numSims)\n",
    "        sims_raw.append(player_sims)\n",
    "    return sims_raw"
   ]
  },
  {
   "cell_type": "code",
   "execution_count": 327,
   "metadata": {},
   "outputs": [],
   "source": [
    "def sim_games_mvp(team1, team2, numSims=1):\n",
    "    '''\n",
    "    Takes in two teams and passes them through the sim team function \n",
    "    and returns how many games each team won. Uses get_roster_ids to get player\n",
    "    IDs to pass through. Modified for mvp\n",
    "    '''\n",
    "    team1_roster = get_roster_ids(team1)\n",
    "    team2_roster = get_roster_ids(team2)\n",
    "    results = [0,0]\n",
    "    for game in range(0, numSims):\n",
    "        team1_sims = sim_team_mvp(team1_roster, 1)\n",
    "        team2_sims = sim_team_mvp(team2_roster, 1)\n",
    "        if sum(team1_sims) > sum(team2_sims):\n",
    "            results[0] += 1\n",
    "        else:\n",
    "            results[1] += 1\n",
    "    return results\n",
    "\n",
    "#after trade deadline\n",
    "def sim_games2_mvp(team1, team2, numSims=1):\n",
    "    '''\n",
    "    Takes in two teams and passes them through the sim team function \n",
    "    and returns how many games each team won. Modified for mvp.\n",
    "    '''\n",
    "    team1_roster = get_roster_ids2(team1)\n",
    "    team2_roster = get_roster_ids2(team2)\n",
    "    results = [0,0]\n",
    "    for game in range(0, numSims):\n",
    "        team1_sims = sim_team_mvp(team1_roster, 1)\n",
    "        team2_sims = sim_team_mvp(team2_roster, 1)\n",
    "        if sum(team1_sims) > sum(team2_sims):\n",
    "            results[0] += 1\n",
    "        else:\n",
    "            results[1] += 1\n",
    "    return results"
   ]
  },
  {
   "cell_type": "code",
   "execution_count": 328,
   "metadata": {},
   "outputs": [],
   "source": [
    "def sim_season_mvp(numSimss=1):\n",
    "    '''\n",
    "    Takes in how many seasons you want to run and returns a dataframe\n",
    "    of the different seasons and each team's number of wins in that season. \n",
    "    Modified to discard MVP through player scoring function\n",
    "    '''\n",
    "    team_wins = pd.DataFrame(columns=[team_list])\n",
    "    team_wins = team_wins.append(pd.Series(name='Win_Count'))\n",
    "    team_wins.fillna(0,inplace=True)\n",
    "    \n",
    "    for games in range(len(gameid_list)):\n",
    "        wins = []\n",
    "        if gameid_list[games] == pretradegames['GAME_ID'].iloc[games]:\n",
    "            wins = sim_games_mvp(get_game(games)[0],get_game(games)[1],numSimss)\n",
    "            if wins[0] > wins[1]:\n",
    "                team_wins[get_game(games)[0]] +=1\n",
    "            else:\n",
    "                team_wins[get_game(games)[1]] +=1\n",
    "        else:\n",
    "            wins = sim_games2_mvp(get_game(games)[0],get_game(games)[1],numSimss)\n",
    "            if wins[0] > wins[1]:\n",
    "                team_wins[get_game(games)[0]] +=1\n",
    "            else:\n",
    "                team_wins[get_game(games)[1]] +=1\n",
    "    return team_wins"
   ]
  },
  {
   "cell_type": "code",
   "execution_count": 459,
   "metadata": {},
   "outputs": [],
   "source": [
    "def mvp_sim(player_id, b):\n",
    "    sim_list = []\n",
    "    mvp_player = []\n",
    "    player = player_id\n",
    "    for i in range(b):\n",
    "        sim_list.append('sim'+str(i))\n",
    "    for simulation in sim_list:\n",
    "        simulation = sim_season_mvp(1)\n",
    "        simulation = simulation.transpose()\n",
    "        simulation = simulation.reset_index()\n",
    "        mvp_player.append(simulation)\n",
    "    mvp_player_df = functools.reduce(lambda  left,right: pd.merge(left,right,on=['level_0'],\n",
    "                                            how='outer'), mvp_player)\n",
    "    return mvp_player_df"
   ]
  },
  {
   "cell_type": "code",
   "execution_count": 344,
   "metadata": {},
   "outputs": [],
   "source": [
    "#list of mvp players with their names\n",
    "#ran each simulation below, analysis on sim_results notebook\n",
    "mvp_list = ['giannis','harden','george','jokic','curry','lillard','embiid','kawhi','gobert','lebron']\n",
    "mvp = [203507,201935,202331,203999,201939,203081,203954,202695,203497,2544]"
   ]
  },
  {
   "cell_type": "code",
   "execution_count": 460,
   "metadata": {},
   "outputs": [],
   "source": [
    "player=203507\n",
    "giannas_df = mvp_sim(203507,10)"
   ]
  },
  {
   "cell_type": "code",
   "execution_count": 462,
   "metadata": {},
   "outputs": [],
   "source": [
    "player=201935\n",
    "harden_df = mvp_sim(201935,10)"
   ]
  },
  {
   "cell_type": "code",
   "execution_count": 463,
   "metadata": {},
   "outputs": [],
   "source": [
    "player=202331\n",
    "george_df = mvp_sim(202331,10)"
   ]
  },
  {
   "cell_type": "code",
   "execution_count": 464,
   "metadata": {},
   "outputs": [],
   "source": [
    "player=203999\n",
    "jokic_df = mvp_sim(203999,10)"
   ]
  },
  {
   "cell_type": "code",
   "execution_count": 465,
   "metadata": {},
   "outputs": [],
   "source": [
    "player=201939\n",
    "curry_df = mvp_sim(201939,10)"
   ]
  },
  {
   "cell_type": "code",
   "execution_count": 466,
   "metadata": {},
   "outputs": [],
   "source": [
    "player=203081\n",
    "lillard_df = mvp_sim(203081,10)"
   ]
  },
  {
   "cell_type": "code",
   "execution_count": 467,
   "metadata": {},
   "outputs": [],
   "source": [
    "player=203954\n",
    "embiid_df = mvp_sim(203954,10)"
   ]
  },
  {
   "cell_type": "code",
   "execution_count": 468,
   "metadata": {},
   "outputs": [],
   "source": [
    "player=202695\n",
    "kawhi_df = mvp_sim(202695,10)"
   ]
  },
  {
   "cell_type": "code",
   "execution_count": 469,
   "metadata": {},
   "outputs": [],
   "source": [
    "player=203497\n",
    "gobert_df = mvp_sim(203497,10)"
   ]
  },
  {
   "cell_type": "code",
   "execution_count": 470,
   "metadata": {},
   "outputs": [],
   "source": [
    "player=2544\n",
    "lebron_df = mvp_sim(2544,10)"
   ]
  },
  {
   "cell_type": "code",
   "execution_count": 471,
   "metadata": {},
   "outputs": [],
   "source": [
    "giannas_df.to_csv('giannas_df.csv')\n",
    "harden_df.to_csv('harden_df.csv')\n",
    "george_df.to_csv('george_df.csv')\n",
    "jokic_df.to_csv('jokic_df.csv')\n",
    "curry_df.to_csv('curry_df.csv')\n",
    "lillard_df.to_csv('lillard_df.csv')\n",
    "embiid_df.to_csv('embiid_df.csv')\n",
    "kawhi_df.to_csv('kawhi_df.csv')\n",
    "gobert_df.to_csv('gobert_df.csv')\n",
    "lebron_df.to_csv('lebron_df.csv')"
   ]
  }
 ],
 "metadata": {
  "kernelspec": {
   "display_name": "Python 3",
   "language": "python",
   "name": "python3"
  },
  "language_info": {
   "codemirror_mode": {
    "name": "ipython",
    "version": 3
   },
   "file_extension": ".py",
   "mimetype": "text/x-python",
   "name": "python",
   "nbconvert_exporter": "python",
   "pygments_lexer": "ipython3",
   "version": "3.7.3"
  }
 },
 "nbformat": 4,
 "nbformat_minor": 2
}
