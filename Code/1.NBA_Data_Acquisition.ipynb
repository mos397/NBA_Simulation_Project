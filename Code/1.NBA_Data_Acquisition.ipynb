{
 "cells": [
  {
   "cell_type": "markdown",
   "metadata": {
    "colab_type": "text",
    "id": "rI1ldDXCvnPp"
   },
   "source": [
    "# Introduction\n",
    "\n",
    "We used an NBA API to collect the data for our project. This first notebook is for the data collection purpose.\n",
    "**Note 1**: To run the code below, the library \"nba_api\" must be installed.\n",
    "**Note 2**: Because the API started having issues providing complete datasets, we used Google Colab to run the code below (though we were still unable to get player game data for all three seasons)."
   ]
  },
  {
   "cell_type": "code",
   "execution_count": 0,
   "metadata": {
    "colab": {
     "base_uri": "https://localhost:8080/",
     "height": 207
    },
    "colab_type": "code",
    "id": "iIjh4b9EvnPq",
    "outputId": "cac4f757-5a60-4403-cb0b-fcdaf61a1b76"
   },
   "outputs": [
    {
     "name": "stdout",
     "output_type": "stream",
     "text": [
      "Collecting nba_api\n",
      "\u001b[?25l  Downloading https://files.pythonhosted.org/packages/98/bc/f701f6f7c79354419107e2534d22ed27bac7de9a6c2d85ab73f87bc140a9/nba_api-1.1.5-py3-none-any.whl (215kB)\n",
      "\r",
      "\u001b[K     |█▌                              | 10kB 17.1MB/s eta 0:00:01\r",
      "\u001b[K     |███                             | 20kB 1.8MB/s eta 0:00:01\r",
      "\u001b[K     |████▌                           | 30kB 2.6MB/s eta 0:00:01\r",
      "\u001b[K     |██████                          | 40kB 1.7MB/s eta 0:00:01\r",
      "\u001b[K     |███████▋                        | 51kB 2.1MB/s eta 0:00:01\r",
      "\u001b[K     |█████████                       | 61kB 2.5MB/s eta 0:00:01\r",
      "\u001b[K     |██████████▋                     | 71kB 2.9MB/s eta 0:00:01\r",
      "\u001b[K     |████████████▏                   | 81kB 3.3MB/s eta 0:00:01\r",
      "\u001b[K     |█████████████▋                  | 92kB 3.7MB/s eta 0:00:01\r",
      "\u001b[K     |███████████████▏                | 102kB 2.8MB/s eta 0:00:01\r",
      "\u001b[K     |████████████████▊               | 112kB 2.8MB/s eta 0:00:01\r",
      "\u001b[K     |██████████████████▏             | 122kB 2.8MB/s eta 0:00:01\r",
      "\u001b[K     |███████████████████▊            | 133kB 2.8MB/s eta 0:00:01\r",
      "\u001b[K     |█████████████████████▎          | 143kB 2.8MB/s eta 0:00:01\r",
      "\u001b[K     |██████████████████████▊         | 153kB 2.8MB/s eta 0:00:01\r",
      "\u001b[K     |████████████████████████▎       | 163kB 2.8MB/s eta 0:00:01\r",
      "\u001b[K     |█████████████████████████▉      | 174kB 2.8MB/s eta 0:00:01\r",
      "\u001b[K     |███████████████████████████▎    | 184kB 2.8MB/s eta 0:00:01\r",
      "\u001b[K     |████████████████████████████▉   | 194kB 2.8MB/s eta 0:00:01\r",
      "\u001b[K     |██████████████████████████████▍ | 204kB 2.8MB/s eta 0:00:01\r",
      "\u001b[K     |███████████████████████████████▉| 215kB 2.8MB/s eta 0:00:01\r",
      "\u001b[K     |████████████████████████████████| 225kB 2.8MB/s \n",
      "\u001b[?25hRequirement already satisfied: requests in /usr/local/lib/python3.6/dist-packages (from nba_api) (2.21.0)\n",
      "Requirement already satisfied: idna<2.9,>=2.5 in /usr/local/lib/python3.6/dist-packages (from requests->nba_api) (2.8)\n",
      "Requirement already satisfied: chardet<3.1.0,>=3.0.2 in /usr/local/lib/python3.6/dist-packages (from requests->nba_api) (3.0.4)\n",
      "Requirement already satisfied: certifi>=2017.4.17 in /usr/local/lib/python3.6/dist-packages (from requests->nba_api) (2019.9.11)\n",
      "Requirement already satisfied: urllib3<1.25,>=1.21.1 in /usr/local/lib/python3.6/dist-packages (from requests->nba_api) (1.24.3)\n",
      "Installing collected packages: nba-api\n",
      "Successfully installed nba-api-1.1.5\n"
     ]
    }
   ],
   "source": [
    "!pip install nba_api"
   ]
  },
  {
   "cell_type": "code",
   "execution_count": 0,
   "metadata": {
    "colab": {
     "base_uri": "https://localhost:8080/",
     "height": 139
    },
    "colab_type": "code",
    "id": "29K99SEcCoUd",
    "outputId": "a29598c0-94fa-4044-d5c1-a5f2759b1b8e"
   },
   "outputs": [
    {
     "name": "stdout",
     "output_type": "stream",
     "text": [
      "Requirement already up-to-date: nba_api in /usr/local/lib/python3.6/dist-packages (1.1.5)\n",
      "Requirement already satisfied, skipping upgrade: requests in /usr/local/lib/python3.6/dist-packages (from nba_api) (2.21.0)\n",
      "Requirement already satisfied, skipping upgrade: certifi>=2017.4.17 in /usr/local/lib/python3.6/dist-packages (from requests->nba_api) (2019.9.11)\n",
      "Requirement already satisfied, skipping upgrade: chardet<3.1.0,>=3.0.2 in /usr/local/lib/python3.6/dist-packages (from requests->nba_api) (3.0.4)\n",
      "Requirement already satisfied, skipping upgrade: urllib3<1.25,>=1.21.1 in /usr/local/lib/python3.6/dist-packages (from requests->nba_api) (1.24.3)\n",
      "Requirement already satisfied, skipping upgrade: idna<2.9,>=2.5 in /usr/local/lib/python3.6/dist-packages (from requests->nba_api) (2.8)\n"
     ]
    }
   ],
   "source": [
    "pip install --upgrade nba_api"
   ]
  },
  {
   "cell_type": "markdown",
   "metadata": {
    "colab_type": "text",
    "id": "spH-he0hvnPn"
   },
   "source": [
    "# Data source 1: Game data by team for three seasons\n",
    "18-19, 17-18, 16-17"
   ]
  },
  {
   "cell_type": "code",
   "execution_count": 0,
   "metadata": {
    "colab": {},
    "colab_type": "code",
    "id": "y56BaF7gvrej"
   },
   "outputs": [],
   "source": [
    "from pandas import DataFrame, Series\n",
    "import pandas as pd\n",
    "from nba_api.stats.static import teams"
   ]
  },
  {
   "cell_type": "code",
   "execution_count": 0,
   "metadata": {
    "colab": {
     "base_uri": "https://localhost:8080/",
     "height": 34
    },
    "colab_type": "code",
    "id": "4ZwyrHmZvnPt",
    "outputId": "98c1db2f-4f40-45e1-87fe-263f86e56a68"
   },
   "outputs": [
    {
     "name": "stdout",
     "output_type": "stream",
     "text": [
      "{'id': 1610612737, 'full_name': 'Atlanta Hawks', 'abbreviation': 'ATL', 'nickname': 'Hawks', 'city': 'Atlanta', 'state': 'Atlanta', 'year_founded': 1949}\n"
     ]
    }
   ],
   "source": [
    "## Get list of NBA teams and their corresponding IDs\n",
    "nba_teams = teams.get_teams()\n",
    "print(nba_teams[0])\n",
    "\n",
    "teams_id_list = []\n",
    "teams_name_list = []\n",
    "for i in range(len(nba_teams)):\n",
    "    teams_id_list.append(nba_teams[i]['id'])\n",
    "    teams_name_list.append(nba_teams[i]['abbreviation'])    \n",
    "nba_teams_dict = dict(zip(teams_id_list,teams_name_list))"
   ]
  },
  {
   "cell_type": "markdown",
   "metadata": {
    "colab_type": "text",
    "id": "IdYCgljFvnPv"
   },
   "source": [
    "## Season 18-19"
   ]
  },
  {
   "cell_type": "code",
   "execution_count": 0,
   "metadata": {
    "colab": {},
    "colab_type": "code",
    "id": "NC0s9NfpvnPw"
   },
   "outputs": [],
   "source": [
    "from nba_api.stats.endpoints import leaguegamefinder\n",
    "game = leaguegamefinder.LeagueGameFinder(team_id_nullable = 1610612737,\n",
    "                                         season_nullable = '2018-19',\n",
    "                                         season_type_nullable = 'Regular Season')"
   ]
  },
  {
   "cell_type": "code",
   "execution_count": 0,
   "metadata": {
    "colab": {},
    "colab_type": "code",
    "id": "gj9QBNHqvnPy"
   },
   "outputs": [],
   "source": [
    "## Get team game log for 18-19\n",
    "from nba_api.stats.endpoints import leaguegamefinder\n",
    "from time import sleep\n",
    "TeamGamesLogsDF18 = DataFrame()\n",
    "for key in nba_teams_dict.keys():\n",
    "    prelim_games = leaguegamefinder.LeagueGameFinder(team_id_nullable = key,\n",
    "                                         season_nullable = '2018-19',\n",
    "                                         season_type_nullable = 'Regular Season')\n",
    "    team_games = prelim_games.get_data_frames()[0]\n",
    "    TeamGamesLogsDF18 = pd.concat([TeamGamesLogsDF18, team_games])\n",
    "    sleep(2)"
   ]
  },
  {
   "cell_type": "code",
   "execution_count": 0,
   "metadata": {
    "colab": {},
    "colab_type": "code",
    "id": "phVylwCYvnP1"
   },
   "outputs": [],
   "source": [
    "## Ensure the games are in regular season\n",
    "TeamGamesLogsDF18['GAME_DATE'] = pd.to_datetime(TeamGamesLogsDF18['GAME_DATE'])\n",
    "start_date = '2018-10-16'\n",
    "mask = (TeamGamesLogsDF18['GAME_DATE'] >= start_date)\n",
    "TeamGamesLogsDF18 = TeamGamesLogsDF18[mask]"
   ]
  },
  {
   "cell_type": "code",
   "execution_count": 0,
   "metadata": {
    "colab": {},
    "colab_type": "code",
    "id": "qPrxjM1EvnP2"
   },
   "outputs": [],
   "source": [
    "## Add a column to indicate if the team is Home or Away for the main team in the row\n",
    "import re\n",
    "def home_or_away(matchup):\n",
    "    ha = re.match(r\"[A-z]+ (vs.|@)\", matchup)\n",
    "    if ha.groups(1)[0] == \"@\":\n",
    "        return \"AWAY\"\n",
    "    else:\n",
    "        return \"HOME\"\n",
    "## Home_or_away(\"MIN @ HOU\")\n",
    "\n",
    "TeamGamesLogsDF18[\"HOME_AWAY\"] = TeamGamesLogsDF18[\"MATCHUP\"].map(home_or_away)\n",
    "\n",
    "## Change Home to 1 and Away to 0\n",
    "TeamGamesLogsDF18['HOME_AWAY'].replace(\"HOME\",1, inplace = True)\n",
    "TeamGamesLogsDF18['HOME_AWAY'].replace(\"AWAY\",0, inplace = True)"
   ]
  },
  {
   "cell_type": "code",
   "execution_count": 0,
   "metadata": {
    "colab": {},
    "colab_type": "code",
    "id": "Nr4RpR5XvnP4"
   },
   "outputs": [],
   "source": [
    "## Save the DF to a csv \n",
    "TeamGamesLogsDF18.to_csv(r'TeamGamesLogsDF18.csv', index = False, header = True)"
   ]
  },
  {
   "cell_type": "markdown",
   "metadata": {
    "colab_type": "text",
    "id": "b0GNzxfvvnP6"
   },
   "source": [
    "## Season 17-18"
   ]
  },
  {
   "cell_type": "code",
   "execution_count": 0,
   "metadata": {
    "colab": {},
    "colab_type": "code",
    "id": "NUy4eyCZvnP7"
   },
   "outputs": [],
   "source": [
    "## Get team game log for 17-18\n",
    "TeamGamesLogsDF17 = DataFrame()\n",
    "for key in nba_teams_dict.keys():\n",
    "    prelim_games = leaguegamefinder.LeagueGameFinder(team_id_nullable = key,\n",
    "                                         season_nullable = '2017-18',\n",
    "                                         season_type_nullable = 'Regular Season')\n",
    "    team_games = prelim_games.get_data_frames()[0]\n",
    "    TeamGamesLogsDF17 = pd.concat([TeamGamesLogsDF17, team_games])\n",
    "    \n",
    "\n",
    "## Ensure the games are in regular season\n",
    "TeamGamesLogsDF17['GAME_DATE'] = pd.to_datetime(TeamGamesLogsDF17['GAME_DATE'])\n",
    "start_date = '2017-10-17'\n",
    "mask = (TeamGamesLogsDF17['GAME_DATE'] >= start_date)\n",
    "TeamGamesLogsDF17 = TeamGamesLogsDF17[mask]\n",
    "\n",
    "## Add Home_Away column\n",
    "TeamGamesLogsDF17[\"HOME_AWAY\"] = TeamGamesLogsDF17[\"MATCHUP\"].map(home_or_away)\n",
    "## Change Home to 1 and Away to 0\n",
    "TeamGamesLogsDF17['HOME_AWAY'].replace(\"HOME\",1, inplace = True)\n",
    "TeamGamesLogsDF17['HOME_AWAY'].replace(\"AWAY\",0, inplace = True)\n",
    "\n",
    "## Save the DF to a csv \n",
    "TeamGamesLogsDF17.to_csv(r'TeamGamesLogsDF17.csv', index = False, header = True)"
   ]
  },
  {
   "cell_type": "markdown",
   "metadata": {
    "colab_type": "text",
    "id": "_AvmPSQjvnP8"
   },
   "source": [
    "## Season 16-17"
   ]
  },
  {
   "cell_type": "code",
   "execution_count": 0,
   "metadata": {
    "colab": {},
    "colab_type": "code",
    "id": "WHMpK_D2vnP9"
   },
   "outputs": [],
   "source": [
    "## Get team game log for 16-17\n",
    "TeamGamesLogsDF16 = DataFrame()\n",
    "for key in nba_teams_dict.keys():\n",
    "    prelim_games = leaguegamefinder.LeagueGameFinder(team_id_nullable = key,\n",
    "                                         season_nullable = '2016-17',\n",
    "                                         season_type_nullable = 'Regular Season')\n",
    "    team_games = prelim_games.get_data_frames()[0]\n",
    "    TeamGamesLogsDF16 = pd.concat([TeamGamesLogsDF16, team_games])\n",
    "    \n",
    "\n",
    "## Ensure the games are in regular season\n",
    "TeamGamesLogsDF16['GAME_DATE'] = pd.to_datetime(TeamGamesLogsDF16['GAME_DATE'])\n",
    "start_date = '2016-10-27'\n",
    "mask = (TeamGamesLogsDF16['GAME_DATE'] >= start_date)\n",
    "TeamGamesLogsDF16 = TeamGamesLogsDF16[mask]\n",
    "\n",
    "## Add Home_Away column\n",
    "TeamGamesLogsDF16[\"HOME_AWAY\"] = TeamGamesLogsDF16[\"MATCHUP\"].map(home_or_away)\n",
    "## Change Home to 1 and Away to 0\n",
    "TeamGamesLogsDF16['HOME_AWAY'].replace(\"HOME\",1, inplace = True)\n",
    "TeamGamesLogsDF16['HOME_AWAY'].replace(\"AWAY\",0, inplace = True)\n",
    "\n",
    "## Save the DF to a csv \n",
    "TeamGamesLogsDF16.to_csv(r'TeamGamesLogsDF16.csv', index = False, header = True)"
   ]
  },
  {
   "cell_type": "markdown",
   "metadata": {
    "colab_type": "text",
    "id": "8_9hi1xsvnP_"
   },
   "source": [
    "# Data source 2: Game data by player for three seasons\n",
    "18-19, 17-18, 16-17\n",
    "\n",
    "As noted in the introduction, we attempted to retreive the player game log data for seasons 16-17 and 17-18 also. However, we ran into an error with the API where it was not able to retreive information for a complete list of active NBA players. The API only recognized about 35% of the original list of players. Therefore, we decided to only use data from season 18-19 as originally planned. Nonetheless, we provided code for all three of the seasons below."
   ]
  },
  {
   "cell_type": "markdown",
   "metadata": {
    "colab_type": "text",
    "id": "Ge3nXOsVvnP_"
   },
   "source": [
    "## Season 18-19"
   ]
  },
  {
   "cell_type": "code",
   "execution_count": 0,
   "metadata": {
    "colab": {},
    "colab_type": "code",
    "id": "53ZzUNULvnQA"
   },
   "outputs": [],
   "source": [
    "import os, sys, json\n",
    "from pandas import DataFrame, Series\n",
    "import pandas as pd\n",
    "import time\n",
    "\n",
    "headers = {\n",
    "    'Host': 'stats.nba.com',\n",
    "    'User-Agent': 'Mozilla/5.0 (Windows NT 10.0; Win64; x64; rv:61.0) Gecko/20100101 Firefox/61.0',\n",
    "    'Accept': 'application/json, text/plain, */*',\n",
    "    'Accept-Language': 'en-US,en;q=0.5',\n",
    "    'Referer': 'https://stats.nba.com/',\n",
    "    'Accept-Encoding': 'gzip, deflate, br',\n",
    "    'Connection': 'keep-alive',\n",
    "}\n",
    "\n",
    "\n",
    "# Get list of current player IDs\n",
    "from nba_api.stats.endpoints import commonallplayers\n",
    "players_json_raw = commonallplayers.CommonAllPlayers(is_only_current_season=1, league_id=\"00\", season=\"2018-19\", headers = headers).get_json()\n",
    "players_json = json.loads(players_json_raw)\n",
    "players = pd.DataFrame(columns=players_json[\"resultSets\"][0][\"headers\"], data=players_json[\"resultSets\"][0][\"rowSet\"])\n",
    "active_player_ids = players[\"PERSON_ID\"].values"
   ]
  },
  {
   "cell_type": "code",
   "execution_count": 0,
   "metadata": {
    "colab": {
     "base_uri": "https://localhost:8080/",
     "height": 34
    },
    "colab_type": "code",
    "id": "nK-8xO9vWJnZ",
    "outputId": "9e22e8b2-1ebd-4371-e335-667cf14020fb"
   },
   "outputs": [
    {
     "data": {
      "text/plain": [
       "175"
      ]
     },
     "execution_count": 5,
     "metadata": {
      "tags": []
     },
     "output_type": "execute_result"
    }
   ],
   "source": [
    "len(players)"
   ]
  },
  {
   "cell_type": "code",
   "execution_count": 0,
   "metadata": {
    "colab": {},
    "colab_type": "code",
    "id": "3TLEuDfSvnQC"
   },
   "outputs": [],
   "source": [
    "from nba_api.stats.endpoints import playergamelog\n",
    "\n",
    "## Test one player\n",
    "pgl = playergamelog.PlayerGameLog(player_id = 2544,\n",
    "                                  season = \"2018-19\",\n",
    "                                  season_type_all_star = \"Regular Season\").get_json()"
   ]
  },
  {
   "cell_type": "code",
   "execution_count": 0,
   "metadata": {
    "colab": {},
    "colab_type": "code",
    "id": "Z066jN2hvnQE"
   },
   "outputs": [],
   "source": [
    "## Obtain json file by player by game\n",
    "#os.mkdir(\"player-json-files-18\")\n",
    "\n",
    "for player in active_player_ids:\n",
    "    # get_json on each player's data\n",
    "    json_file = playergamelog.PlayerGameLog(player_id = player,\n",
    "                                              season = \"2018-19\",\n",
    "                                              season_type_all_star = \"Regular Season\").get_json()\n",
    "    filepath = os.path.join('player-json-files-18', str(player)+'.json')\n",
    "\n",
    "    # write json file into local folder\n",
    "    with open(filepath, 'w') as JsonOut:\n",
    "        JsonOut.write(json_file)\n",
    "    time.sleep(10) # to avoid getting timed out"
   ]
  },
  {
   "cell_type": "code",
   "execution_count": 0,
   "metadata": {
    "colab": {},
    "colab_type": "code",
    "id": "AuJ8_849vnQG"
   },
   "outputs": [],
   "source": [
    "## read json files into a dataframe: json.load\n",
    "PlayerGameLog18 = DataFrame()\n",
    "\n",
    "for filename in os.listdir('player-json-files-18'):\n",
    "    if filename.endswith(\".json\"): # only include the json files \n",
    "        with open('player-json-files-18\\\\' + filename) as player_file:\n",
    "            dict_player = json.load(player_file) # read in as a dictionary\n",
    "            player_df = DataFrame.from_records(dict_player['resultSets'][0]['rowSet'],\n",
    "                                                columns = dict_player['resultSets'][0]['headers'])\n",
    "        PlayerGameLog18 = pd.concat([PlayerGameLog18, player_df])      \n",
    "        continue\n",
    "    else:\n",
    "        continue"
   ]
  },
  {
   "cell_type": "code",
   "execution_count": 0,
   "metadata": {
    "colab": {},
    "colab_type": "code",
    "id": "gtP6r3VfvnQI"
   },
   "outputs": [],
   "source": [
    "## Save player df to csv\n",
    "PlayerGameLog18.to_csv(r'PlayerGameLog18.csv', index = False, header = True)"
   ]
  },
  {
   "cell_type": "markdown",
   "metadata": {
    "colab_type": "text",
    "id": "sn1AKnZSvnQJ"
   },
   "source": [
    "## Season 17-18"
   ]
  },
  {
   "cell_type": "code",
   "execution_count": 0,
   "metadata": {
    "colab": {},
    "colab_type": "code",
    "id": "lE987S6RvnQK"
   },
   "outputs": [],
   "source": [
    "# 17-18\n",
    "# Get list of player IDs\n",
    "from nba_api.stats.endpoints import commonallplayers\n",
    "players_json_raw = commonallplayers.CommonAllPlayers(is_only_current_season=1, league_id=\"00\", season=\"2017-18\").get_json()\n",
    "players_json = json.loads(players_json_raw)\n",
    "players = pd.DataFrame(columns=players_json[\"resultSets\"][0][\"headers\"], data=players_json[\"resultSets\"][0][\"rowSet\"])\n",
    "active_player_ids = players[\"PERSON_ID\"].values\n",
    "\n",
    "## Obtain json file by player by game\n",
    "os.mkdir(\"player-json-files-17\")\n",
    "\n",
    "for player in active_player_ids:\n",
    "    # get_json on each player's data\n",
    "    json_file = playergamelog.PlayerGameLog(player_id = player,\n",
    "                                              season = \"2017-18\",\n",
    "                                              season_type_all_star = \"Regular Season\").get_json()\n",
    "    # write json file into local folder\n",
    "    with open('player-json-files-17\\\\' + str(player) + '.json', 'w') as JsonOut:\n",
    "        JsonOut.write(json_file)\n",
    "    time.sleep(10) # to avoid getting timed out\n",
    "    \n",
    "## read json files into a dataframe: json.load\n",
    "PlayerGameLog17 = DataFrame()\n",
    "\n",
    "for filename in os.listdir('player-json-files-17'):\n",
    "    if filename.endswith(\".json\"): # only include the json files \n",
    "        with open('player-json-files\\\\' + filename) as player_file:\n",
    "            dict_player = json.load(player_file) # read in as a dictionary\n",
    "            player_df = DataFrame.from_records(dict_player['resultSets'][0]['rowSet'],\n",
    "                                                columns = dict_player['resultSets'][0]['headers'])\n",
    "        PlayerGameLog17 = pd.concat([PlayerGameLog17, player_df])      \n",
    "        continue\n",
    "    else:\n",
    "        continue\n",
    "        \n",
    "## Save player df to csv\n",
    "PlayerGameLog17.to_csv(r'PlayerGameLog17.csv', index = False, header = True)"
   ]
  },
  {
   "cell_type": "markdown",
   "metadata": {
    "colab_type": "text",
    "id": "83vxHRLqvnQM"
   },
   "source": [
    "## Season 16-17"
   ]
  },
  {
   "cell_type": "code",
   "execution_count": 0,
   "metadata": {
    "colab": {},
    "colab_type": "code",
    "id": "88mkVvptvnQM"
   },
   "outputs": [],
   "source": [
    "# Get list of player IDs\n",
    "from nba_api.stats.endpoints import commonallplayers\n",
    "players_json_raw = commonallplayers.CommonAllPlayers(is_only_current_season=1, league_id=\"00\", season=\"2016-17\").get_json()\n",
    "players_json = json.loads(players_json_raw)\n",
    "players = pd.DataFrame(columns=players_json[\"resultSets\"][0][\"headers\"], data=players_json[\"resultSets\"][0][\"rowSet\"])\n",
    "active_player_ids = players[\"PERSON_ID\"].values\n",
    "\n",
    "## Obtain json file by player by game\n",
    "os.mkdir(\"player-json-files-16\")\n",
    "\n",
    "for player in active_player_ids:\n",
    "    # get_json on each player's data\n",
    "    json_file = playergamelog.PlayerGameLog(player_id = player,\n",
    "                                              season = \"2016-17\",\n",
    "                                              season_type_all_star = \"Regular Season\").get_json()\n",
    "    # write json file into local folder\n",
    "    with open('player-json-files-18\\\\' + str(player) + '.json', 'w') as JsonOut:\n",
    "        JsonOut.write(json_file)\n",
    "    time.sleep(10) # to avoid getting timed out\n",
    "    \n",
    "## read json files into a dataframe: json.load\n",
    "PlayerGameLog16 = DataFrame()\n",
    "\n",
    "for filename in os.listdir('player-json-files'):\n",
    "    if filename.endswith(\".json\"): # only include the json files \n",
    "        with open('player-json-files\\\\' + filename) as player_file:\n",
    "            dict_player = json.load(player_file) # read in as a dictionary\n",
    "            player_df = DataFrame.from_records(dict_player['resultSets'][0]['rowSet'],\n",
    "                                                columns = dict_player['resultSets'][0]['headers'])\n",
    "        PlayerGameLog16 = pd.concat([PlayerGameLog16, player_df])      \n",
    "        continue\n",
    "    else:\n",
    "        continue\n",
    "        \n",
    "## Save player df to csv\n",
    "PlayerGameLog16.to_csv(r'PlayerGameLog16.csv', index = False, header = True)"
   ]
  },
  {
   "cell_type": "markdown",
   "metadata": {
    "colab_type": "text",
    "id": "aU0hMNAavnQO"
   },
   "source": [
    "# Data Source 3: Basic Player Info\n",
    "This source is for simulation only; therefore it was only collected for the 18-19 season."
   ]
  },
  {
   "cell_type": "code",
   "execution_count": 0,
   "metadata": {
    "colab": {},
    "colab_type": "code",
    "id": "VnrAVyo4vnQP"
   },
   "outputs": [],
   "source": [
    "## Get list of current player IDs\n",
    "import json, re, time\n",
    "import pandas as pd\n",
    "from nba_api.stats.endpoints import commonallplayers\n",
    "players_json_raw = commonallplayers.CommonAllPlayers(is_only_current_season=1, league_id=\"00\", season=\"2018-19\").get_json()\n",
    "players_json = json.loads(players_json_raw)\n",
    "players = pd.DataFrame(columns=players_json[\"resultSets\"][0][\"headers\"], data=players_json[\"resultSets\"][0][\"rowSet\"])\n",
    "active_player_ids = players[\"PERSON_ID\"].values"
   ]
  },
  {
   "cell_type": "code",
   "execution_count": 0,
   "metadata": {
    "colab": {},
    "colab_type": "code",
    "id": "7XI1CPXcvnQQ"
   },
   "outputs": [],
   "source": [
    "## Get player json files\n",
    "from nba_api.stats.endpoints import commonplayerinfo\n",
    "os.mkdir(\"info-json-files\")\n",
    "for player in active_player_ids:\n",
    "  # get_json on each player's data\n",
    "  json_file = commonplayerinfo.CommonPlayerInfo(player_id = player).get_json()\n",
    "  # write json file into local folder\n",
    "  file_path = os.path.join(\"info-json-files\", str(player) + '.json')\n",
    "  with open(file_path, 'w') as JsonOut:\n",
    "     JsonOut.write(json_file)\n",
    "  time.sleep(10) "
   ]
  },
  {
   "cell_type": "code",
   "execution_count": 0,
   "metadata": {
    "colab": {},
    "colab_type": "code",
    "id": "uUvk7pPsvnQU"
   },
   "outputs": [],
   "source": [
    "## Create a dataframe from the json files\n",
    "for playerID in active_player_ids[1:]:\n",
    "  file_path = os.path.join(\"info-json-files\", str(playerID) + '.json')\n",
    "  with open(file_path) as player_file:\n",
    "    player_json = json.load(player_file)\n",
    "    playerDF = pd.DataFrame(columns=player_json[\"resultSets\"][0][\"headers\"], data=player_json[\"resultSets\"][0][\"rowSet\"])\n",
    "    infoDF = pd.concat([infoDF, playerDF])\n",
    "infoDF.set_index(\"PERSON_ID\", inplace=True)\n",
    "infoDF.to_csv(\"Player_Info.csv\")"
   ]
  }
 ],
 "metadata": {
  "accelerator": "GPU",
  "colab": {
   "collapsed_sections": [],
   "name": "NBA_Data_Acquisition_db1125.ipynb",
   "provenance": []
  },
  "kernelspec": {
   "display_name": "Python 3",
   "language": "python",
   "name": "python3"
  },
  "language_info": {
   "codemirror_mode": {
    "name": "ipython",
    "version": 3
   },
   "file_extension": ".py",
   "mimetype": "text/x-python",
   "name": "python",
   "nbconvert_exporter": "python",
   "pygments_lexer": "ipython3",
   "version": "3.7.3"
  },
  "name": "NBA_Data_Acquisition",
  "notebookId": 2990152714218150
 },
 "nbformat": 4,
 "nbformat_minor": 1
}
